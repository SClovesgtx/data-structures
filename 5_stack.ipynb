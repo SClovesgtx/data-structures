{
 "cells": [
  {
   "cell_type": "markdown",
   "id": "1acba799",
   "metadata": {},
   "source": [
    "# Stack no Log2Base2\n",
    "\n",
    "Dados são \"empilhados\" e o último a ser adicionado na pilha, será o primeiro a sair.\n",
    "\n",
    "A seguir temos um exemplo clássico do uso de stack. Quando navegamos no browser, as urls são empilhadas num stack. Basta clicar no botão de voltar para regressar à as páginas anteriores.  "
   ]
  },
  {
   "cell_type": "markdown",
   "id": "df560484",
   "metadata": {},
   "source": [
    "![exemplo de aplicação do stack](imgs/aplicacao_stack.png)"
   ]
  },
  {
   "cell_type": "code",
   "execution_count": 1,
   "id": "77b8f3de",
   "metadata": {},
   "outputs": [],
   "source": [
    "class Stack:\n",
    "    def __init__(self, size):\n",
    "        self.arr = [None] * size\n",
    "        self.top = -1\n",
    "        self.size = size\n",
    "        \n",
    "    def push(self, value):\n",
    "        if self.top == self.size - 1:\n",
    "            print(\"The stack is full.\")\n",
    "        else:\n",
    "            self.top += 1\n",
    "            self.arr[self.top] = value"
   ]
  },
  {
   "cell_type": "code",
   "execution_count": 2,
   "id": "5350b512",
   "metadata": {},
   "outputs": [],
   "source": [
    "stack = Stack(size=3)"
   ]
  },
  {
   "cell_type": "code",
   "execution_count": 4,
   "id": "b6884016",
   "metadata": {},
   "outputs": [],
   "source": [
    "stack.push(1)\n",
    "stack.push(2)\n",
    "stack.push(3)"
   ]
  },
  {
   "cell_type": "code",
   "execution_count": 5,
   "id": "f6eaa8d2",
   "metadata": {},
   "outputs": [
    {
     "name": "stdout",
     "output_type": "stream",
     "text": [
      "The stack is full.\n"
     ]
    }
   ],
   "source": [
    "stack.push(4)"
   ]
  },
  {
   "cell_type": "markdown",
   "id": "eb1f0c37",
   "metadata": {},
   "source": [
    "## Adicionando o pop"
   ]
  },
  {
   "cell_type": "code",
   "execution_count": 21,
   "id": "af3c179c",
   "metadata": {},
   "outputs": [],
   "source": [
    "class Stack:\n",
    "    def __init__(self, size):\n",
    "        self.arr = [None] * size\n",
    "        self.top = -1\n",
    "        self.size = size\n",
    "        \n",
    "    def push(self, value):\n",
    "        if self.top == self.size - 1:\n",
    "            print(\"The stack is full.\")\n",
    "        else:\n",
    "            self.top += 1\n",
    "            self.arr[self.top] = value\n",
    "            \n",
    "    def pop(self):\n",
    "        if self.top == -1:\n",
    "            print(\"The stack is empty.\")\n",
    "        else:\n",
    "            print(f\"Popped element = {self.arr[self.top]}\")\n",
    "            self.arr[self.top] = None\n",
    "            self.top = self.top - 1"
   ]
  },
  {
   "cell_type": "code",
   "execution_count": 22,
   "id": "78093672",
   "metadata": {},
   "outputs": [],
   "source": [
    "stack = Stack(size=4)\n",
    "for value in [1, 2, 3, 4]:\n",
    "    stack.push(value)"
   ]
  },
  {
   "cell_type": "code",
   "execution_count": 23,
   "id": "70067e55",
   "metadata": {},
   "outputs": [
    {
     "name": "stdout",
     "output_type": "stream",
     "text": [
      "The stack is full.\n"
     ]
    }
   ],
   "source": [
    "stack.push(5)"
   ]
  },
  {
   "cell_type": "code",
   "execution_count": 24,
   "id": "923a68bd",
   "metadata": {},
   "outputs": [
    {
     "name": "stdout",
     "output_type": "stream",
     "text": [
      "Popped element = 4\n"
     ]
    }
   ],
   "source": [
    "stack.pop()"
   ]
  },
  {
   "cell_type": "code",
   "execution_count": 25,
   "id": "45167307",
   "metadata": {},
   "outputs": [],
   "source": [
    "stack.push(5)"
   ]
  },
  {
   "cell_type": "markdown",
   "id": "eb710a2a",
   "metadata": {},
   "source": [
    "# Usando deque com Stack"
   ]
  },
  {
   "cell_type": "code",
   "execution_count": 1,
   "id": "6479eb2f",
   "metadata": {},
   "outputs": [],
   "source": [
    "from collections import deque"
   ]
  },
  {
   "cell_type": "code",
   "execution_count": 6,
   "id": "88ac392e",
   "metadata": {},
   "outputs": [],
   "source": [
    "stack = deque()"
   ]
  },
  {
   "cell_type": "code",
   "execution_count": 7,
   "id": "0e53695a",
   "metadata": {},
   "outputs": [
    {
     "data": {
      "text/plain": [
       "deque(['www.google.com', 'www.youtube.com', 'www.log2base2.com'])"
      ]
     },
     "execution_count": 7,
     "metadata": {},
     "output_type": "execute_result"
    }
   ],
   "source": [
    "for page in [\"www.google.com\", \"www.youtube.com\", \"www.log2base2.com\"]:\n",
    "    stack.append(page)\n",
    "stack"
   ]
  },
  {
   "cell_type": "code",
   "execution_count": 8,
   "id": "423388ef",
   "metadata": {},
   "outputs": [
    {
     "data": {
      "text/plain": [
       "deque(['www.google.com', 'www.youtube.com'])"
      ]
     },
     "execution_count": 8,
     "metadata": {},
     "output_type": "execute_result"
    }
   ],
   "source": [
    "stack.pop()\n",
    "stack"
   ]
  },
  {
   "cell_type": "code",
   "execution_count": 9,
   "id": "6062dbe9",
   "metadata": {},
   "outputs": [
    {
     "data": {
      "text/plain": [
       "deque(['www.google.com'])"
      ]
     },
     "execution_count": 9,
     "metadata": {},
     "output_type": "execute_result"
    }
   ],
   "source": [
    "stack.pop()\n",
    "stack"
   ]
  },
  {
   "cell_type": "code",
   "execution_count": 10,
   "id": "110bbddc",
   "metadata": {},
   "outputs": [
    {
     "data": {
      "text/plain": [
       "deque([])"
      ]
     },
     "execution_count": 10,
     "metadata": {},
     "output_type": "execute_result"
    }
   ],
   "source": [
    "stack.pop()\n",
    "stack"
   ]
  },
  {
   "cell_type": "code",
   "execution_count": 11,
   "id": "969d3fb4",
   "metadata": {},
   "outputs": [],
   "source": [
    "stack.append(10)\n",
    "stack.append(90)\n",
    "stack.append(30)"
   ]
  },
  {
   "cell_type": "code",
   "execution_count": 12,
   "id": "eb34749a",
   "metadata": {},
   "outputs": [
    {
     "data": {
      "text/plain": [
       "90"
      ]
     },
     "execution_count": 12,
     "metadata": {},
     "output_type": "execute_result"
    }
   ],
   "source": [
    "max(stack)"
   ]
  },
  {
   "cell_type": "code",
   "execution_count": 13,
   "id": "c2cc6d25",
   "metadata": {},
   "outputs": [],
   "source": [
    "stack = deque(maxlen=10)"
   ]
  },
  {
   "cell_type": "code",
   "execution_count": 14,
   "id": "b3f32e7a",
   "metadata": {},
   "outputs": [
    {
     "data": {
      "text/plain": [
       "deque([], maxlen=10)"
      ]
     },
     "execution_count": 14,
     "metadata": {},
     "output_type": "execute_result"
    }
   ],
   "source": [
    "stack"
   ]
  },
  {
   "cell_type": "code",
   "execution_count": null,
   "id": "82fceb35",
   "metadata": {},
   "outputs": [],
   "source": []
  }
 ],
 "metadata": {
  "kernelspec": {
   "display_name": "Python 3 (ipykernel)",
   "language": "python",
   "name": "python3"
  },
  "language_info": {
   "codemirror_mode": {
    "name": "ipython",
    "version": 3
   },
   "file_extension": ".py",
   "mimetype": "text/x-python",
   "name": "python",
   "nbconvert_exporter": "python",
   "pygments_lexer": "ipython3",
   "version": "3.10.4"
  }
 },
 "nbformat": 4,
 "nbformat_minor": 5
}
