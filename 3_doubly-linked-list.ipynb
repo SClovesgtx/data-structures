{
 "cells": [
  {
   "cell_type": "markdown",
   "id": "e7d8e8d4",
   "metadata": {},
   "source": [
    "![](imgs/doubly_linked_list.png)"
   ]
  },
  {
   "cell_type": "markdown",
   "id": "965b60fd",
   "metadata": {},
   "source": [
    "Um nó da doubly-linked-list tem três partes:\n",
    "\n",
    "![](imgs/doubly_node.png)"
   ]
  },
  {
   "cell_type": "code",
   "execution_count": 1,
   "id": "5afcc1f1",
   "metadata": {},
   "outputs": [],
   "source": [
    "class Node:\n",
    "    \n",
    "    def __init__(self, data):\n",
    "        self.prev = None\n",
    "        self.data = data\n",
    "        self.next = None"
   ]
  },
  {
   "cell_type": "markdown",
   "id": "69ae9f53",
   "metadata": {},
   "source": [
    "Vamos agora linkar alguns nós de forma dupla:\n",
    "\n",
    "![](imgs/linked_nodes_doubly.png)"
   ]
  },
  {
   "cell_type": "code",
   "execution_count": 23,
   "id": "7a0f2ef1",
   "metadata": {},
   "outputs": [],
   "source": [
    "class DoublyLinkedList:\n",
    "    \n",
    "    def __init__(self):\n",
    "        self.head = None\n",
    "        \n",
    "    def printList(self, node=None, forward=True):\n",
    "        \n",
    "        temp = node if node else self.head\n",
    "        \n",
    "        while temp != None:\n",
    "            print(temp.data, end=\" \")\n",
    "            temp = temp.next if forward else temp.prev\n",
    "            \n",
    "    def add_first(self, value):\n",
    "        \n",
    "        new_node = Node(value)\n",
    "        if self.head == None:\n",
    "            self.head = new_node\n",
    "            \n",
    "        else:\n",
    "            self.head.prev = new_node\n",
    "            new_node.next = self.head\n",
    "            self.head = new_node\n",
    "            \n",
    "    def add_last(self, value):\n",
    "        \n",
    "        new_node = Node(value)\n",
    "        \n",
    "        if self.head == None:\n",
    "            last.head = new_node\n",
    "            \n",
    "        else:\n",
    "            last = self.head\n",
    "            while last.next:\n",
    "                last = last.next\n",
    "\n",
    "            last.next = new_node\n",
    "            new_node.prev = last\n",
    "            \n",
    "    def search(self, value):\n",
    "        node = self.head\n",
    "        \n",
    "        if node.data == value:\n",
    "            return node\n",
    "        \n",
    "        while node.next:\n",
    "            if node.data == value:\n",
    "                return node\n",
    "            node = node.next\n",
    "            \n",
    "        return False\n",
    "            "
   ]
  },
  {
   "cell_type": "code",
   "execution_count": 24,
   "id": "76d214cd",
   "metadata": {},
   "outputs": [],
   "source": [
    "llist = DoublyLinkedList()"
   ]
  },
  {
   "cell_type": "code",
   "execution_count": 25,
   "id": "fa1fecd4",
   "metadata": {},
   "outputs": [],
   "source": [
    "llist.head = Node(10)"
   ]
  },
  {
   "cell_type": "code",
   "execution_count": 26,
   "id": "ad7221af",
   "metadata": {},
   "outputs": [],
   "source": [
    "# middle = Node(20)\n",
    "llist.add_first(20)"
   ]
  },
  {
   "cell_type": "code",
   "execution_count": 27,
   "id": "3d0e6a99",
   "metadata": {},
   "outputs": [],
   "source": [
    "# last = Node(30)\n",
    "llist.add_first(30)"
   ]
  },
  {
   "cell_type": "code",
   "execution_count": 28,
   "id": "28ebd124",
   "metadata": {},
   "outputs": [],
   "source": [
    "# llist.head.prev = None"
   ]
  },
  {
   "cell_type": "code",
   "execution_count": 29,
   "id": "e0adeac8",
   "metadata": {},
   "outputs": [],
   "source": [
    "# llist.head.next = middle"
   ]
  },
  {
   "cell_type": "code",
   "execution_count": 30,
   "id": "4ce97f9a",
   "metadata": {},
   "outputs": [],
   "source": [
    "# middle.prev = llist.head"
   ]
  },
  {
   "cell_type": "code",
   "execution_count": 31,
   "id": "13c24153",
   "metadata": {},
   "outputs": [],
   "source": [
    "# middle.next = last"
   ]
  },
  {
   "cell_type": "code",
   "execution_count": 32,
   "id": "2a7b43d2",
   "metadata": {},
   "outputs": [],
   "source": [
    "# last.prev = middle"
   ]
  },
  {
   "cell_type": "code",
   "execution_count": 33,
   "id": "bb3ef9f4",
   "metadata": {},
   "outputs": [
    {
     "name": "stdout",
     "output_type": "stream",
     "text": [
      "30 20 10 "
     ]
    }
   ],
   "source": [
    "llist.printList()"
   ]
  },
  {
   "cell_type": "code",
   "execution_count": 34,
   "id": "cdbdf5f7",
   "metadata": {},
   "outputs": [],
   "source": [
    "# llist.printList(node=middle)"
   ]
  },
  {
   "cell_type": "code",
   "execution_count": 35,
   "id": "dfb66281",
   "metadata": {},
   "outputs": [],
   "source": [
    "# llist.printList(node=last, forward=False)"
   ]
  },
  {
   "cell_type": "code",
   "execution_count": 36,
   "id": "363cfa3f",
   "metadata": {},
   "outputs": [],
   "source": [
    "# llist.printList(node=middle, forward=False)"
   ]
  },
  {
   "cell_type": "code",
   "execution_count": 37,
   "id": "f4833633",
   "metadata": {},
   "outputs": [],
   "source": [
    "llist.add_last(50)"
   ]
  },
  {
   "cell_type": "code",
   "execution_count": 38,
   "id": "889d5270",
   "metadata": {},
   "outputs": [
    {
     "name": "stdout",
     "output_type": "stream",
     "text": [
      "30 20 10 50 "
     ]
    }
   ],
   "source": [
    "llist.printList()"
   ]
  },
  {
   "cell_type": "code",
   "execution_count": 40,
   "id": "024f5a82",
   "metadata": {},
   "outputs": [
    {
     "name": "stdout",
     "output_type": "stream",
     "text": [
      "False\n"
     ]
    }
   ],
   "source": [
    "node = llist.search(90)\n",
    "if node:\n",
    "    print(node.data)\n",
    "else:\n",
    "    print(node)"
   ]
  },
  {
   "cell_type": "code",
   "execution_count": null,
   "id": "d6b810f0",
   "metadata": {},
   "outputs": [],
   "source": []
  }
 ],
 "metadata": {
  "kernelspec": {
   "display_name": "Python 3 (ipykernel)",
   "language": "python",
   "name": "python3"
  },
  "language_info": {
   "codemirror_mode": {
    "name": "ipython",
    "version": 3
   },
   "file_extension": ".py",
   "mimetype": "text/x-python",
   "name": "python",
   "nbconvert_exporter": "python",
   "pygments_lexer": "ipython3",
   "version": "3.10.4"
  }
 },
 "nbformat": 4,
 "nbformat_minor": 5
}
