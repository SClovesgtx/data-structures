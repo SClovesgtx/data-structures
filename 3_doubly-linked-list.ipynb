{
 "cells": [
  {
   "cell_type": "markdown",
   "id": "e7d8e8d4",
   "metadata": {},
   "source": [
    "![](imgs/doubly_linked_list.png)"
   ]
  },
  {
   "cell_type": "markdown",
   "id": "965b60fd",
   "metadata": {},
   "source": [
    "# Definição\n",
    "\n",
    "Uma lista duplamente ligada é uma coleção de nós em que o nó possui três campos, o primeiro campo é o ponteiro que contém o endereço do nó anterior, o segundo é o campo de dados e o terceiro é o ponteiro que contém o endereço do próximo nó.\n",
    "\n",
    "![](imgs/doubly_node.png)"
   ]
  },
  {
   "cell_type": "code",
   "execution_count": 3,
   "id": "5afcc1f1",
   "metadata": {},
   "outputs": [],
   "source": [
    "class Node:\n",
    "    \n",
    "    def __init__(self, data):\n",
    "        self.prev = None\n",
    "        self.data = data\n",
    "        self.next = None"
   ]
  },
  {
   "cell_type": "markdown",
   "id": "69ae9f53",
   "metadata": {},
   "source": [
    "Vamos agora linkar alguns nós de forma dupla:\n",
    "\n",
    "![](imgs/linked_nodes_doubly.png)"
   ]
  },
  {
   "cell_type": "markdown",
   "id": "ff49803b",
   "metadata": {},
   "source": [
    "A lista duplamente vinculada pode ser acessada em ambas as direções.\n",
    "\n",
    "Requer duas variáveis de ponteiro de lista, *head* e *last*. O ponteiro de cabeça aponta para o primeiro nó e o último ponteiro aponta para o último nó da lista."
   ]
  },
  {
   "cell_type": "markdown",
   "id": "fb12bbe7",
   "metadata": {},
   "source": [
    "# Complexidade\n",
    "\n",
    "Em uma lista duplamente ligada, a complexidade de tempo para inserir e excluir um elemento é $O(1)$. Isso supondo que você saiba onde se encontra o nó.\n",
    "\n",
    "Mas para encontrar o nó, temos $O(n)$.\n",
    "\n",
    "Ele utiliza mais espaço de memória, é mais eficiente e pode ser implementado em pilha, heap e árvore binária."
   ]
  },
  {
   "cell_type": "code",
   "execution_count": 24,
   "id": "7a0f2ef1",
   "metadata": {},
   "outputs": [],
   "source": [
    "class DoublyLinkedList:\n",
    "    \n",
    "    def __init__(self):\n",
    "        self.head = None\n",
    "        \n",
    "    def printList(self, node=None, forward=True):\n",
    "        \n",
    "        temp = node if node else self.head\n",
    "        \n",
    "        while temp != None:\n",
    "            print(temp.data, end=\" \")\n",
    "            temp = temp.next if forward else temp.prev\n",
    "            \n",
    "    def add_first(self, value):\n",
    "        \n",
    "        new_node = Node(value)\n",
    "        if self.head == None:\n",
    "            self.head = new_node\n",
    "            \n",
    "        else:\n",
    "            self.head.prev = new_node\n",
    "            new_node.next = self.head\n",
    "            self.head = new_node\n",
    "            \n",
    "    def add_last(self, value):\n",
    "        \n",
    "        new_node = Node(value)\n",
    "        \n",
    "        if self.head == None:\n",
    "            last.head = new_node\n",
    "            \n",
    "        else:\n",
    "            last = self.head\n",
    "            while last.next:\n",
    "                last = last.next\n",
    "\n",
    "            last.next = new_node\n",
    "            new_node.prev = last\n",
    "            \n",
    "    def search(self, value):\n",
    "        node = self.head\n",
    "        \n",
    "        if node.data == value:\n",
    "            return node\n",
    "        \n",
    "        while node.data != None:\n",
    "            if node.data == value:\n",
    "                return node\n",
    "            node = node.next\n",
    "            \n",
    "        return False\n",
    "    \n",
    "    def delete(self, key):\n",
    "        \n",
    "        if self.head == None:\n",
    "            return \"Lista vazia\"\n",
    "        \n",
    "        \n",
    "        temp  = self.head\n",
    "        while temp != None and temp.data != key:\n",
    "            temp = temp.next\n",
    "            \n",
    "        if temp == None:\n",
    "            return \"Key not found!\"\n",
    "        \n",
    "        # temp é head da lista\n",
    "        elif temp == self.head:\n",
    "            self.head = self.head.next\n",
    "            \n",
    "        # temp é último da lista\n",
    "        elif temp.next == None:\n",
    "            temp.prev.next = None\n",
    "            \n",
    "        # temp está em alguma posição\n",
    "        # entre início e fim.\n",
    "        else:\n",
    "            temp.prev.next = temp.next\n",
    "            temp.next.prev = temp.prev\n",
    "            \n",
    "            \n",
    "            "
   ]
  },
  {
   "cell_type": "code",
   "execution_count": 25,
   "id": "76d214cd",
   "metadata": {},
   "outputs": [],
   "source": [
    "llist = DoublyLinkedList()"
   ]
  },
  {
   "cell_type": "code",
   "execution_count": 26,
   "id": "fa1fecd4",
   "metadata": {},
   "outputs": [],
   "source": [
    "llist.head = Node(10)"
   ]
  },
  {
   "cell_type": "code",
   "execution_count": 27,
   "id": "ad7221af",
   "metadata": {},
   "outputs": [],
   "source": [
    "llist.add_first(20)"
   ]
  },
  {
   "cell_type": "code",
   "execution_count": 28,
   "id": "3d0e6a99",
   "metadata": {},
   "outputs": [],
   "source": [
    "llist.add_first(30)"
   ]
  },
  {
   "cell_type": "code",
   "execution_count": 29,
   "id": "bb3ef9f4",
   "metadata": {},
   "outputs": [
    {
     "name": "stdout",
     "output_type": "stream",
     "text": [
      "30 20 10 "
     ]
    }
   ],
   "source": [
    "llist.printList()"
   ]
  },
  {
   "cell_type": "code",
   "execution_count": 30,
   "id": "f4833633",
   "metadata": {},
   "outputs": [],
   "source": [
    "llist.add_last(50)"
   ]
  },
  {
   "cell_type": "code",
   "execution_count": 31,
   "id": "889d5270",
   "metadata": {},
   "outputs": [
    {
     "name": "stdout",
     "output_type": "stream",
     "text": [
      "30 20 10 50 "
     ]
    }
   ],
   "source": [
    "llist.printList()"
   ]
  },
  {
   "cell_type": "code",
   "execution_count": 32,
   "id": "024f5a82",
   "metadata": {},
   "outputs": [
    {
     "name": "stdout",
     "output_type": "stream",
     "text": [
      "10\n"
     ]
    }
   ],
   "source": [
    "node = llist.search(10)\n",
    "if node:\n",
    "    print(node.data)\n",
    "else:\n",
    "    print(node)"
   ]
  },
  {
   "cell_type": "code",
   "execution_count": 33,
   "id": "d6b810f0",
   "metadata": {},
   "outputs": [],
   "source": [
    "llist.delete(10)"
   ]
  },
  {
   "cell_type": "code",
   "execution_count": 34,
   "id": "43e69210",
   "metadata": {},
   "outputs": [
    {
     "name": "stdout",
     "output_type": "stream",
     "text": [
      "30 20 50 "
     ]
    }
   ],
   "source": [
    "llist.printList()"
   ]
  },
  {
   "cell_type": "code",
   "execution_count": 35,
   "id": "daef2569",
   "metadata": {},
   "outputs": [
    {
     "name": "stdout",
     "output_type": "stream",
     "text": [
      "30 20 "
     ]
    }
   ],
   "source": [
    "llist.delete(50)\n",
    "llist.printList()"
   ]
  },
  {
   "cell_type": "code",
   "execution_count": 36,
   "id": "5b11ce23",
   "metadata": {},
   "outputs": [
    {
     "name": "stdout",
     "output_type": "stream",
     "text": [
      "20 "
     ]
    }
   ],
   "source": [
    "llist.delete(30)\n",
    "llist.printList()"
   ]
  },
  {
   "cell_type": "code",
   "execution_count": 37,
   "id": "447bec90",
   "metadata": {},
   "outputs": [],
   "source": [
    "llist.delete(20)\n",
    "llist.printList()"
   ]
  }
 ],
 "metadata": {
  "kernelspec": {
   "display_name": "Python 3 (ipykernel)",
   "language": "python",
   "name": "python3"
  },
  "language_info": {
   "codemirror_mode": {
    "name": "ipython",
    "version": 3
   },
   "file_extension": ".py",
   "mimetype": "text/x-python",
   "name": "python",
   "nbconvert_exporter": "python",
   "pygments_lexer": "ipython3",
   "version": "3.10.4"
  }
 },
 "nbformat": 4,
 "nbformat_minor": 5
}
