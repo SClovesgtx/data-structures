{
 "cells": [
  {
   "cell_type": "markdown",
   "id": "12d12dfa",
   "metadata": {},
   "source": [
    "# Anotações do curso no Log2Base2"
   ]
  },
  {
   "cell_type": "markdown",
   "id": "f40eef06",
   "metadata": {},
   "source": [
    "![](imgs/singly_list.png)"
   ]
  },
  {
   "cell_type": "code",
   "execution_count": 90,
   "id": "0a91775a",
   "metadata": {},
   "outputs": [],
   "source": [
    "class Node:\n",
    "    def __init__(self, data):\n",
    "        self.data = data\n",
    "        self.next = None\n",
    "        \n",
    "        \n",
    "class LinkedList:\n",
    "    def __init__(self):\n",
    "        self.head = None\n",
    "        \n",
    "    def print_llist(self):\n",
    "        temp = self.head\n",
    "        while (temp):\n",
    "            print(temp.data)\n",
    "            temp = temp.next\n",
    "            \n",
    "    def add_first(self, value):\n",
    "        new_node = Node(value)\n",
    "        new_node.next = self.head\n",
    "        self.head = new_node\n",
    "        \n",
    "    def add_last(self, value):\n",
    "        new_node = Node(value)\n",
    "        if self.head == None:\n",
    "            self.head = new_node\n",
    "        else:\n",
    "            last_node = self.head\n",
    "            while (last_node.next):\n",
    "                last_node = last_node.next\n",
    "            last_node.next = new_node\n",
    "            \n",
    "    def search(self, key):\n",
    "        temp = self.head\n",
    "        while temp:\n",
    "            if temp.data == key:\n",
    "                return True\n",
    "            temp = temp.next\n",
    "        return False\n",
    "    \n",
    "    def delete(self, key):\n",
    "        temp = self.head\n",
    "        if temp.data == key:\n",
    "            self.head = temp.next\n",
    "        else:\n",
    "            while temp.next != None:\n",
    "                if temp.next.data == key:\n",
    "                    temp.next = temp.next.next\n",
    "                    break\n",
    "                else:\n",
    "                    temp = temp.next\n",
    "        "
   ]
  },
  {
   "cell_type": "code",
   "execution_count": 71,
   "id": "8c32c584",
   "metadata": {},
   "outputs": [],
   "source": [
    "linked_list = LinkedList()"
   ]
  },
  {
   "cell_type": "code",
   "execution_count": 72,
   "id": "298bf1a0",
   "metadata": {},
   "outputs": [],
   "source": [
    "linked_list.add_first(30)"
   ]
  },
  {
   "cell_type": "code",
   "execution_count": 73,
   "id": "86f2afe8",
   "metadata": {},
   "outputs": [],
   "source": [
    "linked_list.add_first(20)"
   ]
  },
  {
   "cell_type": "code",
   "execution_count": 74,
   "id": "a2144e16",
   "metadata": {},
   "outputs": [],
   "source": [
    "linked_list.add_first(10)"
   ]
  },
  {
   "cell_type": "code",
   "execution_count": 75,
   "id": "2921a0bf",
   "metadata": {},
   "outputs": [
    {
     "name": "stdout",
     "output_type": "stream",
     "text": [
      "10\n",
      "20\n",
      "30\n"
     ]
    }
   ],
   "source": [
    "linked_list.print_llist()"
   ]
  },
  {
   "cell_type": "markdown",
   "id": "83716b8e",
   "metadata": {},
   "source": [
    "A complexidade deste insert no início da **lista lincada** é de $O(1)$. Bem melhor que o $O(n)$ da lista normal."
   ]
  },
  {
   "cell_type": "code",
   "execution_count": 95,
   "id": "17b517dc",
   "metadata": {},
   "outputs": [],
   "source": [
    "linked_list = LinkedList()\n",
    "linked_list.add_last(40)\n",
    "linked_list.add_last(50)\n",
    "linked_list.add_last(60)"
   ]
  },
  {
   "cell_type": "code",
   "execution_count": 92,
   "id": "b4251a82",
   "metadata": {},
   "outputs": [
    {
     "name": "stdout",
     "output_type": "stream",
     "text": [
      "40\n",
      "50\n",
      "60\n"
     ]
    }
   ],
   "source": [
    "linked_list.print_llist()"
   ]
  },
  {
   "cell_type": "markdown",
   "id": "5b9cd6ed",
   "metadata": {},
   "source": [
    "A complexidade deste insert no fim da **lista lincada** é de $O(n)$, o mesmo para o método *search* e *delete*. Ou seja, neste cenário voltamos à mesma complexidade da lista."
   ]
  },
  {
   "cell_type": "code",
   "execution_count": 84,
   "id": "a0db57fd",
   "metadata": {},
   "outputs": [
    {
     "data": {
      "text/plain": [
       "False"
      ]
     },
     "execution_count": 84,
     "metadata": {},
     "output_type": "execute_result"
    }
   ],
   "source": [
    "linked_list.search(20)"
   ]
  },
  {
   "cell_type": "code",
   "execution_count": 85,
   "id": "d156feea",
   "metadata": {},
   "outputs": [
    {
     "data": {
      "text/plain": [
       "True"
      ]
     },
     "execution_count": 85,
     "metadata": {},
     "output_type": "execute_result"
    }
   ],
   "source": [
    "linked_list.search(40)"
   ]
  },
  {
   "cell_type": "code",
   "execution_count": 96,
   "id": "e2a6dc9d",
   "metadata": {},
   "outputs": [],
   "source": [
    "linked_list.delete(60)"
   ]
  },
  {
   "cell_type": "code",
   "execution_count": 97,
   "id": "d5386b28",
   "metadata": {},
   "outputs": [
    {
     "name": "stdout",
     "output_type": "stream",
     "text": [
      "40\n",
      "50\n"
     ]
    }
   ],
   "source": [
    "linked_list.print_llist()"
   ]
  },
  {
   "cell_type": "markdown",
   "id": "e3686894",
   "metadata": {},
   "source": [
    "# Anotações do Livro: Data Structures and Algorithms with Python"
   ]
  },
  {
   "cell_type": "code",
   "execution_count": 90,
   "id": "499cbdaf",
   "metadata": {},
   "outputs": [],
   "source": [
    "class LinkedList:\n",
    "\n",
    "    # This class is used internally by the LinkedList class. It is\n",
    "    # invisible from outside this class due to the two underscores\n",
    "    # that precede the class name. Python mangles names so that they\n",
    "    # are not recognizable outside the class when two underscores\n",
    "    # precede a name but aren’t followed by two underscores at the\n",
    "    # end of the name (i.e. an operator name).\n",
    "    class __Node:\n",
    "        def __init__(self, item, next_node=None):\n",
    "            self.item = item\n",
    "            self.next = next_node\n",
    "\n",
    "        def getItem(self):\n",
    "            return self.item\n",
    "\n",
    "        def getNext(self):\n",
    "            return self.next\n",
    "\n",
    "        def setItem(self, item):\n",
    "            self.item = item\n",
    "\n",
    "        def setNext(self, next_node):\n",
    "            self.next = next_node\n",
    "\n",
    "    def __init__(self, contents=[]):\n",
    "        # Here we keep a reference to the first node in the linked list\n",
    "        # and the last item in the linked list. They both point to a\n",
    "        # dummy node to begin with. This dummy node will always be in\n",
    "        # the first position in the list and will never contain an item.\n",
    "        # Its purpose is to eliminate special cases in the code below.\n",
    "        self.first = LinkedList.__Node(None,None)\n",
    "        self.last = self.first\n",
    "        self.numItems = 0\n",
    "        for e in contents:\n",
    "            self.append(e)\n",
    "            \n",
    "    def __getitem__(self, index):\n",
    "        if index >= 0 and index < self.numItems:\n",
    "            cursor = self.first.getNext()\n",
    "            for i in range(index):\n",
    "                cursor = cursor.getNext()\n",
    "            \n",
    "            return cursor.getItem()\n",
    "        \n",
    "        raise IndexError(\"LinkedList index out of range\")\n",
    "        \n",
    "    def __setitem__(self,index, val):\n",
    "        if index >= 0 and index < self.numItems:\n",
    "            cursor = self.first.getNext()\n",
    "            for i in range(index):\n",
    "                cursor = cursor.getNext()\n",
    "            \n",
    "            cursor.setItem(val)\n",
    "            return\n",
    "    \n",
    "        raise IndexError(\"LinkedList assignment index out of range\")\n",
    "    \n",
    "    def __add__(self, other):\n",
    "        if type(self) != type(other):\n",
    "            raise TypeError(\"Concatenate undefined for \" + \\\n",
    "                    str(type(self)) + \" + \" + str(type(other))\n",
    "            )\n",
    "\n",
    "        result = LinkedList()\n",
    "\n",
    "\n",
    "        cursor = self.first.getNext()\n",
    "\n",
    "        while cursor != None:\n",
    "            result.append(cursor.getItem())\n",
    "            cursor = cursor.getNext()\n",
    "\n",
    "        cursor = other.first.getNext()\n",
    "\n",
    "        while cursor != None:\n",
    "            result.append(cursor.getItem())\n",
    "            cursor = cursor.getNext()\n",
    "\n",
    "        return result\n",
    "    \n",
    "    def append(self, item):\n",
    "        node = LinkedList.__Node(item)\n",
    "        self.last.setNext(node)\n",
    "        self.last = node\n",
    "        self.numItems += 1\n",
    "        \n",
    "    def insert(self, index, item):\n",
    "        cursor = self.first\n",
    "        if index < self.numItems:\n",
    "            for i in range(index):\n",
    "                cursor = cursor.getNext()\n",
    "\n",
    "            node = LinkedList.__Node(item, cursor.getNext())\n",
    "            cursor.setNext(node)\n",
    "            self.numItems += 1\n",
    "        else:\n",
    "            self.append(item)\n",
    "    \n",
    "    def __repr__(self):\n",
    "        rep = 'LinkedList(['\n",
    "        cursor = self.first.getNext()\n",
    "        for i in range(self.numItems): \n",
    "            rep += str(cursor.item)\n",
    "            if cursor == self.last:\n",
    "                rep += \"])\"\n",
    "                break\n",
    "            rep += \", \"\n",
    "            cursor = cursor.getNext()\n",
    "        return rep\n",
    "    \n",
    "    def __iter__(self):\n",
    "        node = self.first.getNext()\n",
    "        while node is not None:\n",
    "            yield node\n",
    "            node = node.next\n",
    "        "
   ]
  },
  {
   "cell_type": "code",
   "execution_count": 91,
   "id": "cd483daa",
   "metadata": {},
   "outputs": [],
   "source": [
    "llist = LinkedList(contents=[10, 20, 30])"
   ]
  },
  {
   "cell_type": "code",
   "execution_count": 94,
   "id": "6b033c1e",
   "metadata": {},
   "outputs": [
    {
     "name": "stdout",
     "output_type": "stream",
     "text": [
      "10\n",
      "20\n",
      "30\n"
     ]
    }
   ],
   "source": [
    "for node in llist:\n",
    "    print(node.item)"
   ]
  },
  {
   "cell_type": "code",
   "execution_count": 95,
   "id": "9f3d8eba",
   "metadata": {},
   "outputs": [
    {
     "name": "stdout",
     "output_type": "stream",
     "text": [
      "LinkedList([10, 20, 30])\n"
     ]
    }
   ],
   "source": [
    "print(llist)"
   ]
  },
  {
   "cell_type": "code",
   "execution_count": 96,
   "id": "9820ff0d",
   "metadata": {},
   "outputs": [],
   "source": [
    "llist.insert(1, 15)"
   ]
  },
  {
   "cell_type": "code",
   "execution_count": 97,
   "id": "4b45a0b3",
   "metadata": {},
   "outputs": [
    {
     "name": "stdout",
     "output_type": "stream",
     "text": [
      "LinkedList([10, 15, 20, 30])\n"
     ]
    }
   ],
   "source": [
    "print(llist)"
   ]
  },
  {
   "cell_type": "code",
   "execution_count": 98,
   "id": "3b5dd74a",
   "metadata": {},
   "outputs": [],
   "source": [
    "llist.append(40)"
   ]
  },
  {
   "cell_type": "code",
   "execution_count": 99,
   "id": "6b81d01e",
   "metadata": {},
   "outputs": [
    {
     "name": "stdout",
     "output_type": "stream",
     "text": [
      "LinkedList([10, 15, 20, 30, 40])\n"
     ]
    }
   ],
   "source": [
    "print(llist)"
   ]
  },
  {
   "cell_type": "code",
   "execution_count": 100,
   "id": "556b4bd9",
   "metadata": {},
   "outputs": [],
   "source": [
    "llist2 = LinkedList(contents=[50, 60])"
   ]
  },
  {
   "cell_type": "code",
   "execution_count": 101,
   "id": "74d6f9da",
   "metadata": {},
   "outputs": [
    {
     "name": "stdout",
     "output_type": "stream",
     "text": [
      "LinkedList([10, 15, 20, 30, 40, 50, 60])\n"
     ]
    }
   ],
   "source": [
    "llist3 = llist + llist2\n",
    "print(llist3)"
   ]
  },
  {
   "cell_type": "code",
   "execution_count": 102,
   "id": "cb55f19f",
   "metadata": {},
   "outputs": [
    {
     "data": {
      "text/plain": [
       "20"
      ]
     },
     "execution_count": 102,
     "metadata": {},
     "output_type": "execute_result"
    }
   ],
   "source": [
    "llist3[2]"
   ]
  },
  {
   "cell_type": "code",
   "execution_count": 103,
   "id": "0a9826b4",
   "metadata": {},
   "outputs": [
    {
     "data": {
      "text/plain": [
       "25"
      ]
     },
     "execution_count": 103,
     "metadata": {},
     "output_type": "execute_result"
    }
   ],
   "source": [
    "llist3[2] = 25\n",
    "llist3[2]"
   ]
  },
  {
   "cell_type": "code",
   "execution_count": 104,
   "id": "f86e38db",
   "metadata": {},
   "outputs": [
    {
     "name": "stdout",
     "output_type": "stream",
     "text": [
      "LinkedList([10, 15, 25, 30, 40, 50, 60])\n"
     ]
    }
   ],
   "source": [
    "print(llist3)"
   ]
  },
  {
   "cell_type": "markdown",
   "id": "9e6f465a",
   "metadata": {},
   "source": [
    "# Linked List Nativa do Python"
   ]
  },
  {
   "cell_type": "code",
   "execution_count": 105,
   "id": "ce4accda",
   "metadata": {},
   "outputs": [],
   "source": [
    "from collections import deque"
   ]
  },
  {
   "cell_type": "code",
   "execution_count": 106,
   "id": "e4a19686",
   "metadata": {},
   "outputs": [
    {
     "data": {
      "text/plain": [
       "deque(['a', 'b', 'c'])"
      ]
     },
     "execution_count": 106,
     "metadata": {},
     "output_type": "execute_result"
    }
   ],
   "source": [
    "deque(['a','b','c'])"
   ]
  },
  {
   "cell_type": "code",
   "execution_count": 107,
   "id": "0d26a3a3",
   "metadata": {},
   "outputs": [
    {
     "data": {
      "text/plain": [
       "deque(['a', 'b', 'c'])"
      ]
     },
     "execution_count": 107,
     "metadata": {},
     "output_type": "execute_result"
    }
   ],
   "source": [
    "deque('abc')"
   ]
  },
  {
   "cell_type": "code",
   "execution_count": 108,
   "id": "c13c5c68",
   "metadata": {},
   "outputs": [
    {
     "data": {
      "text/plain": [
       "deque([{'data': 'a'}, {'data': 'b'}])"
      ]
     },
     "execution_count": 108,
     "metadata": {},
     "output_type": "execute_result"
    }
   ],
   "source": [
    "deque([{'data': 'a'}, {'data': 'b'}])"
   ]
  },
  {
   "cell_type": "code",
   "execution_count": 109,
   "id": "771cc877",
   "metadata": {},
   "outputs": [],
   "source": [
    "llist = deque(\"abcde\")"
   ]
  },
  {
   "cell_type": "code",
   "execution_count": 110,
   "id": "6292aa03",
   "metadata": {},
   "outputs": [
    {
     "name": "stdout",
     "output_type": "stream",
     "text": [
      "deque(['a', 'b', 'c', 'd', 'e', 'f'])\n"
     ]
    }
   ],
   "source": [
    "llist.append(\"f\")\n",
    "print(llist)"
   ]
  },
  {
   "cell_type": "code",
   "execution_count": 111,
   "id": "62ce1b0a",
   "metadata": {},
   "outputs": [
    {
     "name": "stdout",
     "output_type": "stream",
     "text": [
      "deque(['a', 'b', 'c', 'd', 'e'])\n"
     ]
    }
   ],
   "source": [
    "llist.pop()\n",
    "print(llist)"
   ]
  },
  {
   "cell_type": "code",
   "execution_count": 112,
   "id": "1b381dd8",
   "metadata": {},
   "outputs": [
    {
     "name": "stdout",
     "output_type": "stream",
     "text": [
      "deque(['z', 'a', 'b', 'c', 'd', 'e'])\n"
     ]
    }
   ],
   "source": [
    "llist.appendleft(\"z\")\n",
    "print(llist)"
   ]
  },
  {
   "cell_type": "code",
   "execution_count": 113,
   "id": "dfa19484",
   "metadata": {},
   "outputs": [
    {
     "name": "stdout",
     "output_type": "stream",
     "text": [
      "deque(['a', 'b', 'c', 'd', 'e'])\n"
     ]
    }
   ],
   "source": [
    "llist.popleft()\n",
    "print(llist)"
   ]
  },
  {
   "cell_type": "code",
   "execution_count": 115,
   "id": "b0ea0c84",
   "metadata": {},
   "outputs": [
    {
     "name": "stdout",
     "output_type": "stream",
     "text": [
      "a\n",
      "b\n",
      "c\n",
      "d\n",
      "e\n"
     ]
    }
   ],
   "source": [
    "for node in llist:\n",
    "    print(node)"
   ]
  },
  {
   "cell_type": "code",
   "execution_count": 116,
   "id": "85af205f",
   "metadata": {},
   "outputs": [
    {
     "data": {
      "text/plain": [
       "'d'"
      ]
     },
     "execution_count": 116,
     "metadata": {},
     "output_type": "execute_result"
    }
   ],
   "source": [
    "llist[3]"
   ]
  },
  {
   "cell_type": "code",
   "execution_count": 117,
   "id": "0c8a827a",
   "metadata": {},
   "outputs": [
    {
     "data": {
      "text/plain": [
       "deque(['a', 'b', 'c', 'e'])"
      ]
     },
     "execution_count": 117,
     "metadata": {},
     "output_type": "execute_result"
    }
   ],
   "source": [
    "del llist[3]\n",
    "llist"
   ]
  },
  {
   "cell_type": "code",
   "execution_count": null,
   "id": "7c9639a9",
   "metadata": {},
   "outputs": [],
   "source": []
  }
 ],
 "metadata": {
  "kernelspec": {
   "display_name": "Python 3 (ipykernel)",
   "language": "python",
   "name": "python3"
  },
  "language_info": {
   "codemirror_mode": {
    "name": "ipython",
    "version": 3
   },
   "file_extension": ".py",
   "mimetype": "text/x-python",
   "name": "python",
   "nbconvert_exporter": "python",
   "pygments_lexer": "ipython3",
   "version": "3.10.4"
  }
 },
 "nbformat": 4,
 "nbformat_minor": 5
}
