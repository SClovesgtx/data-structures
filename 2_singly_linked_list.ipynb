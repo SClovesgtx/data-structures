{
 "cells": [
  {
   "cell_type": "code",
   "execution_count": 90,
   "id": "0a91775a",
   "metadata": {},
   "outputs": [],
   "source": [
    "class Node:\n",
    "    def __init__(self, data):\n",
    "        self.data = data\n",
    "        self.next = None\n",
    "        \n",
    "        \n",
    "class LinkedList:\n",
    "    def __init__(self):\n",
    "        self.head = None\n",
    "        \n",
    "    def print_llist(self):\n",
    "        temp = self.head\n",
    "        while (temp):\n",
    "            print(temp.data)\n",
    "            temp = temp.next\n",
    "            \n",
    "    def add_first(self, value):\n",
    "        new_node = Node(value)\n",
    "        new_node.next = self.head\n",
    "        self.head = new_node\n",
    "        \n",
    "    def add_last(self, value):\n",
    "        new_node = Node(value)\n",
    "        if self.head == None:\n",
    "            self.head = new_node\n",
    "        else:\n",
    "            last_node = self.head\n",
    "            while (last_node.next):\n",
    "                last_node = last_node.next\n",
    "            last_node.next = new_node\n",
    "            \n",
    "    def search(self, key):\n",
    "        temp = self.head\n",
    "        while temp:\n",
    "            if temp.data == key:\n",
    "                return True\n",
    "            temp = temp.next\n",
    "        return False\n",
    "    \n",
    "    def delete(self, key):\n",
    "        temp = self.head\n",
    "        if temp.data == key:\n",
    "            self.head = temp.next\n",
    "        else:\n",
    "            while temp.next != None:\n",
    "                if temp.next.data == key:\n",
    "                    temp.next = temp.next.next\n",
    "                    break\n",
    "                else:\n",
    "                    temp = temp.next\n",
    "        "
   ]
  },
  {
   "cell_type": "code",
   "execution_count": 71,
   "id": "8c32c584",
   "metadata": {},
   "outputs": [],
   "source": [
    "linked_list = LinkedList()"
   ]
  },
  {
   "cell_type": "code",
   "execution_count": 72,
   "id": "298bf1a0",
   "metadata": {},
   "outputs": [],
   "source": [
    "linked_list.add_first(30)"
   ]
  },
  {
   "cell_type": "code",
   "execution_count": 73,
   "id": "86f2afe8",
   "metadata": {},
   "outputs": [],
   "source": [
    "linked_list.add_first(20)"
   ]
  },
  {
   "cell_type": "code",
   "execution_count": 74,
   "id": "a2144e16",
   "metadata": {},
   "outputs": [],
   "source": [
    "linked_list.add_first(10)"
   ]
  },
  {
   "cell_type": "code",
   "execution_count": 75,
   "id": "2921a0bf",
   "metadata": {},
   "outputs": [
    {
     "name": "stdout",
     "output_type": "stream",
     "text": [
      "10\n",
      "20\n",
      "30\n"
     ]
    }
   ],
   "source": [
    "linked_list.print_llist()"
   ]
  },
  {
   "cell_type": "markdown",
   "id": "83716b8e",
   "metadata": {},
   "source": [
    "A complexidade deste insert no início da **lista lincada** é de $O(1)$. Bem melhor que o $O(n)$ da lista normal."
   ]
  },
  {
   "cell_type": "code",
   "execution_count": 95,
   "id": "17b517dc",
   "metadata": {},
   "outputs": [],
   "source": [
    "linked_list = LinkedList()\n",
    "linked_list.add_last(40)\n",
    "linked_list.add_last(50)\n",
    "linked_list.add_last(60)"
   ]
  },
  {
   "cell_type": "code",
   "execution_count": 92,
   "id": "b4251a82",
   "metadata": {},
   "outputs": [
    {
     "name": "stdout",
     "output_type": "stream",
     "text": [
      "40\n",
      "50\n",
      "60\n"
     ]
    }
   ],
   "source": [
    "linked_list.print_llist()"
   ]
  },
  {
   "cell_type": "markdown",
   "id": "5b9cd6ed",
   "metadata": {},
   "source": [
    "A complexidade deste insert no fim da **lista lincada** é de $O(n)$, o mesmo para o método *search* e *delete*. Ou seja, neste cenário voltamos à mesma complexidade da lista."
   ]
  },
  {
   "cell_type": "code",
   "execution_count": 84,
   "id": "a0db57fd",
   "metadata": {},
   "outputs": [
    {
     "data": {
      "text/plain": [
       "False"
      ]
     },
     "execution_count": 84,
     "metadata": {},
     "output_type": "execute_result"
    }
   ],
   "source": [
    "linked_list.search(20)"
   ]
  },
  {
   "cell_type": "code",
   "execution_count": 85,
   "id": "d156feea",
   "metadata": {},
   "outputs": [
    {
     "data": {
      "text/plain": [
       "True"
      ]
     },
     "execution_count": 85,
     "metadata": {},
     "output_type": "execute_result"
    }
   ],
   "source": [
    "linked_list.search(40)"
   ]
  },
  {
   "cell_type": "code",
   "execution_count": 96,
   "id": "e2a6dc9d",
   "metadata": {},
   "outputs": [],
   "source": [
    "linked_list.delete(60)"
   ]
  },
  {
   "cell_type": "code",
   "execution_count": 97,
   "id": "d5386b28",
   "metadata": {},
   "outputs": [
    {
     "name": "stdout",
     "output_type": "stream",
     "text": [
      "40\n",
      "50\n"
     ]
    }
   ],
   "source": [
    "linked_list.print_llist()"
   ]
  }
 ],
 "metadata": {
  "kernelspec": {
   "display_name": "Python 3 (ipykernel)",
   "language": "python",
   "name": "python3"
  },
  "language_info": {
   "codemirror_mode": {
    "name": "ipython",
    "version": 3
   },
   "file_extension": ".py",
   "mimetype": "text/x-python",
   "name": "python",
   "nbconvert_exporter": "python",
   "pygments_lexer": "ipython3",
   "version": "3.10.4"
  }
 },
 "nbformat": 4,
 "nbformat_minor": 5
}
