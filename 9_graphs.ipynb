{
 "cells": [
  {
   "cell_type": "markdown",
   "id": "243dcbc5",
   "metadata": {},
   "source": [
    "# Graphs\n",
    "\n",
    "Comece assistindo lendo essa bre intro [aqui](https://www.geeksforgeeks.org/graph-data-structure-and-algorithms/).\n",
    "\n",
    "Para vídeos:\n",
    "\n",
    "* [What is a Graph Data Structure? When to use it? How to easily visualize it?](https://www.youtube.com/watch?v=tq3zPnrQIpU) para breve explicação.\n",
    "\n",
    "* [Graph Algorithms for Technical Interviews - Full Course](https://www.youtube.com/watch?v=tWVWeAqZ0WU) para um estudo razoavelmente aprofundado.\n",
    "\n",
    "* [Algorithms Course - Graph Theory Tutorial from a Google Engineer](https://www.youtube.com/watch?v=09_LlHjoEiY) para um curso mais profundo ainda.\n",
    "\n",
    "Há uma livro bem interessante para, quem sabe, no futuro você estudar:\n",
    "\n",
    "* [Network Science by Abert-László Barabázi](http://networksciencebook.com/?fbclid=IwAR24nTldK9LzeQ7fwuq8WKCeHjB2718yVN-ZyI6MgtRO4qghwejeyV3NBzk)"
   ]
  },
  {
   "cell_type": "markdown",
   "id": "ec943bac",
   "metadata": {},
   "source": [
    "Basicamente uma estrutura de dados em forma de grafo contém informações sobre relacionamento de forma direcionada (com quem cada entidade se relaciona), ou não direcionada (como as entidades estão relacionadas) e os graus de entrada e saída (indica volume de relacionamento de cada entidade)."
   ]
  },
  {
   "cell_type": "markdown",
   "id": "310f2967",
   "metadata": {},
   "source": [
    "# Adjacency Matrix"
   ]
  },
  {
   "cell_type": "markdown",
   "id": "8f47f568",
   "metadata": {},
   "source": [
    "O objetivo aqui é criar uma matriz que mostre quais as ligações/relações de cada nó. Se tivermos $n$ nós, então precisaremos criar uma matriz $n\\times n$.\n",
    "\n",
    "No exemplo a seguir temos $4$ nós, portanto criamos uma matriz $4\\times 4$."
   ]
  },
  {
   "cell_type": "markdown",
   "id": "b190ce0b",
   "metadata": {},
   "source": [
    "![](imgs/adjacency_matrix.png)"
   ]
  },
  {
   "cell_type": "code",
   "execution_count": 30,
   "id": "e9e58702",
   "metadata": {},
   "outputs": [],
   "source": [
    "class AdjMatrix:\n",
    "    def __init__(self, size):\n",
    "        self.arr = []\n",
    "        for i in range(size):\n",
    "            self.arr.append([0 for j in range(size)])\n",
    "            \n",
    "        self.size = size\n",
    "        \n",
    "    def addEdge(self, src, dest):\n",
    "        self.arr[src][dest] += 1\n",
    "        \n",
    "    def __str__(self):\n",
    "        repre = \"\"\n",
    "        done = []\n",
    "        for i in range(self.size):\n",
    "            for j in range(self.size):\n",
    "                if set([i, j]) not in done:\n",
    "                    if self.arr[i][j] > 0 and self.arr[j][i] > 0 :\n",
    "                        repre += f\"{i} <--> {j}\\n\"\n",
    "                    elif self.arr[i][j] > 0:\n",
    "                        repre += f\"{i} --> {j}\\n\"\n",
    "                    elif self.arr[j][i] > 0:\n",
    "                        repre += f\"{i} <-- {j}\\n\"\n",
    "                    else:\n",
    "                        repre += f\"{i} xx {j}\\n\"\n",
    "                    done.append(set([i, j]))\n",
    "        return repre"
   ]
  },
  {
   "cell_type": "code",
   "execution_count": 31,
   "id": "a4f547bd",
   "metadata": {},
   "outputs": [],
   "source": [
    "matrix = AdjMatrix(3)"
   ]
  },
  {
   "cell_type": "code",
   "execution_count": 32,
   "id": "799b7c4b",
   "metadata": {},
   "outputs": [],
   "source": [
    "matrix.addEdge(1, 2)\n",
    "matrix.addEdge(2, 1)\n",
    "matrix.addEdge(2, 0)"
   ]
  },
  {
   "cell_type": "code",
   "execution_count": 33,
   "id": "15844a34",
   "metadata": {},
   "outputs": [
    {
     "name": "stdout",
     "output_type": "stream",
     "text": [
      "0 xx 0\n",
      "0 xx 1\n",
      "0 <-- 2\n",
      "1 xx 1\n",
      "1 <--> 2\n",
      "2 xx 2\n",
      "\n"
     ]
    }
   ],
   "source": [
    "print(matrix)"
   ]
  },
  {
   "cell_type": "code",
   "execution_count": null,
   "id": "d967343d",
   "metadata": {},
   "outputs": [],
   "source": []
  }
 ],
 "metadata": {
  "kernelspec": {
   "display_name": "Python 3 (ipykernel)",
   "language": "python",
   "name": "python3"
  },
  "language_info": {
   "codemirror_mode": {
    "name": "ipython",
    "version": 3
   },
   "file_extension": ".py",
   "mimetype": "text/x-python",
   "name": "python",
   "nbconvert_exporter": "python",
   "pygments_lexer": "ipython3",
   "version": "3.10.6"
  }
 },
 "nbformat": 4,
 "nbformat_minor": 5
}
