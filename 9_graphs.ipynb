{
 "cells": [
  {
   "cell_type": "markdown",
   "id": "243dcbc5",
   "metadata": {},
   "source": [
    "# Graphs\n",
    "\n",
    "Comece lendo essa breve intro [aqui](https://www.geeksforgeeks.org/graph-data-structure-and-algorithms/).\n",
    "\n",
    "Para as representações de estruturas em grafos, leia isso [daqui](https://www.geeksforgeeks.org/graph-and-its-representations/).\n",
    "\n",
    "Para vídeos:\n",
    "\n",
    "* [What is a Graph Data Structure? When to use it? How to easily visualize it?](https://www.youtube.com/watch?v=tq3zPnrQIpU) para breve explicação.\n",
    "\n",
    "* [Graph Algorithms for Technical Interviews - Full Course](https://www.youtube.com/watch?v=tWVWeAqZ0WU) para um estudo razoavelmente aprofundado.\n",
    "\n",
    "* [Algorithms Course - Graph Theory Tutorial from a Google Engineer](https://www.youtube.com/watch?v=09_LlHjoEiY) para um curso mais profundo ainda.\n",
    "\n",
    "Há uma livro bem interessante para, quem sabe, no futuro você estudar:\n",
    "\n",
    "* [Network Science by Abert-László Barabázi](http://networksciencebook.com/?fbclid=IwAR24nTldK9LzeQ7fwuq8WKCeHjB2718yVN-ZyI6MgtRO4qghwejeyV3NBzk)"
   ]
  },
  {
   "cell_type": "markdown",
   "id": "ec943bac",
   "metadata": {},
   "source": [
    "Basicamente uma estrutura de dados em forma de grafo contém informações sobre relacionamento de forma direcionada (com quem cada entidade se relaciona), ou não direcionada (como as entidades estão relacionadas) e os graus de entrada e saída (indica volume de relacionamento de cada entidade)."
   ]
  },
  {
   "cell_type": "markdown",
   "id": "310f2967",
   "metadata": {},
   "source": [
    "# Adjacency Matrix"
   ]
  },
  {
   "cell_type": "markdown",
   "id": "8f47f568",
   "metadata": {},
   "source": [
    "O objetivo aqui é criar uma matriz que mostre quais as ligações/relações de cada nó. Se tivermos $n$ nós, então precisaremos criar uma matriz $n\\times n$.\n",
    "\n",
    "No exemplo a seguir temos $4$ nós, portanto criamos uma matriz $4\\times 4$."
   ]
  },
  {
   "cell_type": "markdown",
   "id": "b190ce0b",
   "metadata": {},
   "source": [
    "![](imgs/adjacency_matrix.png)"
   ]
  },
  {
   "cell_type": "code",
   "execution_count": 1,
   "id": "e9e58702",
   "metadata": {},
   "outputs": [],
   "source": [
    "class AdjMatrix:\n",
    "    def __init__(self, size):\n",
    "        self.arr = []\n",
    "        for i in range(size):\n",
    "            self.arr.append([0 for j in range(size)])\n",
    "            \n",
    "        self.size = size\n",
    "        \n",
    "    def addEdge(self, src, dest):\n",
    "        \"\"\"\n",
    "        para grafos direcionados\n",
    "        \"\"\"\n",
    "        self.arr[src][dest] = 1\n",
    "        # para grafos não direcionados\n",
    "        # descomente o trecho a seguir\n",
    "        # self.arr[dest][src] = 1\n",
    "    \n",
    "        \n",
    "    def __str__(self):\n",
    "        repre = \"\"\n",
    "        done = []\n",
    "        for i in range(self.size):\n",
    "            for j in range(self.size):\n",
    "                if set([i, j]) not in done:\n",
    "                    if self.arr[i][j] > 0 and self.arr[j][i] > 0 :\n",
    "                        repre += f\"{i} <--> {j}\\n\"\n",
    "                    elif self.arr[i][j] > 0:\n",
    "                        repre += f\"{i} --> {j}\\n\"\n",
    "                    elif self.arr[j][i] > 0:\n",
    "                        repre += f\"{i} <-- {j}\\n\"\n",
    "                    else:\n",
    "                        repre += f\"{i} xx {j}\\n\"\n",
    "                    done.append(set([i, j]))\n",
    "        return repre"
   ]
  },
  {
   "cell_type": "code",
   "execution_count": 31,
   "id": "a4f547bd",
   "metadata": {},
   "outputs": [],
   "source": [
    "matrix = AdjMatrix(3)"
   ]
  },
  {
   "cell_type": "code",
   "execution_count": 32,
   "id": "799b7c4b",
   "metadata": {},
   "outputs": [],
   "source": [
    "matrix.addEdge(1, 2)\n",
    "matrix.addEdge(2, 1)\n",
    "matrix.addEdge(2, 0)"
   ]
  },
  {
   "cell_type": "code",
   "execution_count": 33,
   "id": "15844a34",
   "metadata": {},
   "outputs": [
    {
     "name": "stdout",
     "output_type": "stream",
     "text": [
      "0 xx 0\n",
      "0 xx 1\n",
      "0 <-- 2\n",
      "1 xx 1\n",
      "1 <--> 2\n",
      "2 xx 2\n",
      "\n"
     ]
    }
   ],
   "source": [
    "print(matrix)"
   ]
  },
  {
   "cell_type": "markdown",
   "id": "7db58114",
   "metadata": {},
   "source": [
    "# Adjacent List"
   ]
  },
  {
   "cell_type": "markdown",
   "id": "d681e9a4",
   "metadata": {},
   "source": [
    "Se o grafo for muito esparço, a representação com adjacent list olocará menos memória. "
   ]
  },
  {
   "cell_type": "markdown",
   "id": "2b8a20a0",
   "metadata": {},
   "source": [
    "![](imgs/adjacent_list.png)"
   ]
  },
  {
   "cell_type": "code",
   "execution_count": 43,
   "id": "da41ef07",
   "metadata": {},
   "outputs": [],
   "source": [
    "class AdjNode:\n",
    "    def __init__(self, value):\n",
    "        self.data = value\n",
    "        self.next = None\n",
    "\n",
    "class AdjList:\n",
    "    def __init__(self, num):\n",
    "        self.V = num\n",
    "        self.adj_list = [None] * num\n",
    "        \n",
    "    def add_edge(self, src, dest):\n",
    "        \n",
    "        new_node = AdjNode(dest)\n",
    "        \n",
    "        if self.adj_list[src] == None:\n",
    "            self.adj_list[src] = new_node\n",
    "        else:\n",
    "            last = self.adj_list[src]\n",
    "            while last.next != None:\n",
    "                last = last.next\n",
    "            last.next = new_node\n",
    "            \n",
    "    def print_graph(self):\n",
    "        for i in range(self.V):\n",
    "            temp = self.adj_list[i]\n",
    "            print(\"AdjList[\"+str(i)+\"]\", end=\" --> \")\n",
    "            while temp != None:\n",
    "                print(temp.data, end=\" --> \")\n",
    "                temp = temp.next\n",
    "            print(\"None\")\n",
    "            \n",
    "    def has_edge(self, src, dest):\n",
    "        temp = self.adj_list[src]\n",
    "        while temp != None:\n",
    "            if temp.data == dest:\n",
    "                return 1\n",
    "            temp = temp.next\n",
    "        return 0\n",
    "    \n",
    "    def delete_edge(self, src, dest):\n",
    "        \n",
    "        if self.has_edge(src, dest) == 1:\n",
    "        \n",
    "            if self.adj_list[src] == None:\n",
    "                return None\n",
    "            if self.adj_list[src].data == dest:\n",
    "                self.adj_list[src] = self.adj_list[src].next\n",
    "            else:\n",
    "                current = AdjNode(self.adj_list[src])\n",
    "                while current.next != None:\n",
    "                    if current.next.data == dest:\n",
    "                        temp = AdjNode(current.next)\n",
    "                        temp.next = current.next\n",
    "                        break\n",
    "                    else:\n",
    "                        current = current.next\n",
    "                \n",
    "        else:\n",
    "            print(f\"There is no edge {src} --> {dest}\")"
   ]
  },
  {
   "cell_type": "code",
   "execution_count": 44,
   "id": "c0ecfbeb",
   "metadata": {},
   "outputs": [],
   "source": [
    "obj = AdjList(5)"
   ]
  },
  {
   "cell_type": "code",
   "execution_count": 45,
   "id": "6e196b5e",
   "metadata": {},
   "outputs": [],
   "source": [
    "obj.add_edge(0, 1)\n",
    "obj.add_edge(0, 2)\n",
    "obj.add_edge(0, 3)\n",
    "obj.add_edge(1, 3)\n",
    "obj.add_edge(1, 4)\n",
    "obj.add_edge(2, 3)\n",
    "obj.add_edge(3, 4)"
   ]
  },
  {
   "cell_type": "code",
   "execution_count": 46,
   "id": "b7409879",
   "metadata": {},
   "outputs": [
    {
     "name": "stdout",
     "output_type": "stream",
     "text": [
      "AdjList[0] --> 1 --> 2 --> 3 --> None\n",
      "AdjList[1] --> 3 --> 4 --> None\n",
      "AdjList[2] --> 3 --> None\n",
      "AdjList[3] --> 4 --> None\n",
      "AdjList[4] --> None\n"
     ]
    }
   ],
   "source": [
    "obj.print_graph()"
   ]
  },
  {
   "cell_type": "code",
   "execution_count": 47,
   "id": "4cc51330",
   "metadata": {},
   "outputs": [
    {
     "data": {
      "text/plain": [
       "1"
      ]
     },
     "execution_count": 47,
     "metadata": {},
     "output_type": "execute_result"
    }
   ],
   "source": [
    "obj.has_edge(1, 3)"
   ]
  },
  {
   "cell_type": "code",
   "execution_count": 48,
   "id": "e3c10a77",
   "metadata": {},
   "outputs": [
    {
     "data": {
      "text/plain": [
       "0"
      ]
     },
     "execution_count": 48,
     "metadata": {},
     "output_type": "execute_result"
    }
   ],
   "source": [
    "obj.has_edge(3, 1)"
   ]
  },
  {
   "cell_type": "code",
   "execution_count": 51,
   "id": "b85376fe",
   "metadata": {},
   "outputs": [],
   "source": [
    "obj.delete_edge(0, 2)"
   ]
  },
  {
   "cell_type": "code",
   "execution_count": 52,
   "id": "a75bc5ed",
   "metadata": {},
   "outputs": [
    {
     "name": "stdout",
     "output_type": "stream",
     "text": [
      "AdjList[0] --> 1 --> 2 --> 3 --> None\n",
      "AdjList[1] --> 3 --> 4 --> None\n",
      "AdjList[2] --> 3 --> None\n",
      "AdjList[3] --> 4 --> None\n",
      "AdjList[4] --> None\n"
     ]
    }
   ],
   "source": [
    "obj.print_graph()"
   ]
  },
  {
   "cell_type": "code",
   "execution_count": null,
   "id": "b3f14213",
   "metadata": {},
   "outputs": [],
   "source": []
  }
 ],
 "metadata": {
  "kernelspec": {
   "display_name": "Python 3 (ipykernel)",
   "language": "python",
   "name": "python3"
  },
  "language_info": {
   "codemirror_mode": {
    "name": "ipython",
    "version": 3
   },
   "file_extension": ".py",
   "mimetype": "text/x-python",
   "name": "python",
   "nbconvert_exporter": "python",
   "pygments_lexer": "ipython3",
   "version": "3.10.6"
  }
 },
 "nbformat": 4,
 "nbformat_minor": 5
}
