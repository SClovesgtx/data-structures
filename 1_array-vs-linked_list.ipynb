{
 "cells": [
  {
   "cell_type": "code",
   "execution_count": 10,
   "id": "734190ad",
   "metadata": {},
   "outputs": [
    {
     "name": "stdout",
     "output_type": "stream",
     "text": [
      "Valor 10, da posição 0 do array, que está  armazenado no endereço de memória 140617399927312\n",
      "\n",
      "Valor 20, da posição 1 do array, que está  armazenado no endereço de memória 140617399927632\n",
      "\n",
      "Valor 30, da posição 2 do array, que está  armazenado no endereço de memória 140617399927952\n",
      "\n",
      "Valor 40, da posição 3 do array, que está  armazenado no endereço de memória 140617399928272\n",
      "\n",
      "Valor 50, da posição 4 do array, que está  armazenado no endereço de memória 140617399928592\n",
      "\n"
     ]
    }
   ],
   "source": [
    "array = [10, 20, 30, 40, 50]\n",
    "\n",
    "def print_array(array):\n",
    "    for index, value in enumerate(array):\n",
    "        print(f\"Valor {value}, da posição {index} do array, que está  armazenado no endereço de memória {id(value)}\\n\")\n",
    "        \n",
    "print_array(array)        "
   ]
  },
  {
   "cell_type": "markdown",
   "id": "72aa966d",
   "metadata": {},
   "source": [
    "Vamos agora adicionar o valor 100 na posição 1 do array:"
   ]
  },
  {
   "cell_type": "code",
   "execution_count": 11,
   "id": "de24ef9c",
   "metadata": {},
   "outputs": [
    {
     "name": "stdout",
     "output_type": "stream",
     "text": [
      "Valor 10, da posição 0 do array, que está  armazenado no endereço de memória 140617399927312\n",
      "\n",
      "Valor 100, da posição 1 do array, que está  armazenado no endereço de memória 140617399930192\n",
      "\n",
      "Valor 20, da posição 2 do array, que está  armazenado no endereço de memória 140617399927632\n",
      "\n",
      "Valor 30, da posição 3 do array, que está  armazenado no endereço de memória 140617399927952\n",
      "\n",
      "Valor 40, da posição 4 do array, que está  armazenado no endereço de memória 140617399928272\n",
      "\n",
      "Valor 50, da posição 5 do array, que está  armazenado no endereço de memória 140617399928592\n",
      "\n"
     ]
    }
   ],
   "source": [
    "array.insert(1, 100)\n",
    "print_array(array)"
   ]
  },
  {
   "cell_type": "markdown",
   "id": "f387b4da",
   "metadata": {},
   "source": [
    "Como podemos ver que os valores 20, 30, 40 e 50 tiveram de mudar de posição para dar espaço ao novo valor 100, ou seja, 4 operações foram feitas.\n",
    "\n",
    "![array insert novo elemento](imgs/1.png)\n",
    "\n",
    "O pior dos cenários seria ter colocado 100 no index 0 do array, isso iria gerar 5 operações, ou seja, a complexidade deste cara é $O(n)$."
   ]
  },
  {
   "cell_type": "markdown",
   "id": "153d3fbc",
   "metadata": {},
   "source": [
    "Neste cenário de precisar inserir um novo valor em qualquer lugar no array, a **linked list** seria muito mais rápido.\n",
    "\n",
    "Cada item na linked list sabe (aponta para) o endereço de memória do próximo item da lista. Desta forma, se for preciso inserir um novo valor na lista, basta fazer apenas duas operações, as de atualização de apontamento:\n",
    "\n",
    "Antes do insert:\n",
    "\n",
    "![](imgs/2.png)\n",
    "\n",
    "Depois do insert:\n",
    "\n",
    "![](imgs/3.png)"
   ]
  }
 ],
 "metadata": {
  "kernelspec": {
   "display_name": "Python 3 (ipykernel)",
   "language": "python",
   "name": "python3"
  },
  "language_info": {
   "codemirror_mode": {
    "name": "ipython",
    "version": 3
   },
   "file_extension": ".py",
   "mimetype": "text/x-python",
   "name": "python",
   "nbconvert_exporter": "python",
   "pygments_lexer": "ipython3",
   "version": "3.10.4"
  }
 },
 "nbformat": 4,
 "nbformat_minor": 5
}
