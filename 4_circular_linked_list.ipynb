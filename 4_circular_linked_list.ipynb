{
 "cells": [
  {
   "cell_type": "code",
   "execution_count": 1,
   "id": "43bde4a1",
   "metadata": {},
   "outputs": [],
   "source": [
    "class Node:\n",
    "    def __init__(self, data):\n",
    "        self.data = data\n",
    "        self.next = None"
   ]
  },
  {
   "cell_type": "code",
   "execution_count": 2,
   "id": "164524d0",
   "metadata": {},
   "outputs": [],
   "source": [
    "class LinkedList:\n",
    "    def __init__(self):\n",
    "        self.head = None"
   ]
  },
  {
   "cell_type": "code",
   "execution_count": 3,
   "id": "3baa8829",
   "metadata": {},
   "outputs": [],
   "source": [
    "llist = LinkedList()"
   ]
  },
  {
   "cell_type": "code",
   "execution_count": 4,
   "id": "2a3bc68a",
   "metadata": {},
   "outputs": [],
   "source": [
    "llist.head = Node(10)"
   ]
  },
  {
   "cell_type": "code",
   "execution_count": 5,
   "id": "fa8e71ee",
   "metadata": {},
   "outputs": [],
   "source": [
    "middle = Node(20)"
   ]
  },
  {
   "cell_type": "code",
   "execution_count": 6,
   "id": "23511629",
   "metadata": {},
   "outputs": [],
   "source": [
    "last = Node(30)"
   ]
  },
  {
   "cell_type": "code",
   "execution_count": 7,
   "id": "37a66b8e",
   "metadata": {},
   "outputs": [],
   "source": [
    "llist.head.next = middle"
   ]
  },
  {
   "cell_type": "code",
   "execution_count": 8,
   "id": "a03169b1",
   "metadata": {},
   "outputs": [],
   "source": [
    "middle.next = last"
   ]
  },
  {
   "cell_type": "code",
   "execution_count": 9,
   "id": "2bf8b6fe",
   "metadata": {},
   "outputs": [],
   "source": [
    "last.next = llist.head"
   ]
  },
  {
   "cell_type": "code",
   "execution_count": 31,
   "id": "698b0041",
   "metadata": {},
   "outputs": [],
   "source": [
    "def print_next(linked_list):\n",
    "    temp = linked_list.head\n",
    "    while temp.next:\n",
    "        temp = temp.next\n",
    "        yield temp.data"
   ]
  },
  {
   "cell_type": "code",
   "execution_count": 32,
   "id": "e9d000d7",
   "metadata": {},
   "outputs": [],
   "source": [
    "printer = print_next(linked_list=llist)"
   ]
  },
  {
   "cell_type": "code",
   "execution_count": 87,
   "id": "b2232d61",
   "metadata": {},
   "outputs": [
    {
     "data": {
      "text/plain": [
       "20"
      ]
     },
     "execution_count": 87,
     "metadata": {},
     "output_type": "execute_result"
    }
   ],
   "source": [
    "next(printer)"
   ]
  },
  {
   "cell_type": "markdown",
   "id": "9360a00c",
   "metadata": {},
   "source": [
    "# Adicionando nó no início\n",
    "\n",
    "Complexidade quando não sabe onde está o nó: $O(n)$\n",
    "\n",
    "Quando sabe onde está o nó: $O(1)$"
   ]
  },
  {
   "cell_type": "code",
   "execution_count": 89,
   "id": "5880bf42",
   "metadata": {},
   "outputs": [],
   "source": [
    "class LinkedList:\n",
    "    def __init__(self):\n",
    "        self.head = None\n",
    "        \n",
    "    def add_first(self, value):\n",
    "        new_node = Node(value)\n",
    "        if self.head == None:\n",
    "            self.head = new_node\n",
    "            new_node.next = self.head\n",
    "        else:\n",
    "            last_node = self.head\n",
    "            while last_node.next != self.head:\n",
    "                last_node = last_node.next\n",
    "            \n",
    "            last_node.next = new_node\n",
    "            new_node.next = self.head\n",
    "            self.head = new_node"
   ]
  },
  {
   "cell_type": "code",
   "execution_count": 90,
   "id": "f154b7ca",
   "metadata": {},
   "outputs": [],
   "source": [
    "llist = LinkedList()"
   ]
  },
  {
   "cell_type": "code",
   "execution_count": 91,
   "id": "011d0987",
   "metadata": {},
   "outputs": [],
   "source": [
    "llist.add_first(10)"
   ]
  },
  {
   "cell_type": "code",
   "execution_count": 92,
   "id": "11c4095c",
   "metadata": {},
   "outputs": [],
   "source": [
    "llist.add_first(20)"
   ]
  },
  {
   "cell_type": "code",
   "execution_count": 93,
   "id": "aac24387",
   "metadata": {},
   "outputs": [],
   "source": [
    "llist.add_first(30)"
   ]
  },
  {
   "cell_type": "code",
   "execution_count": 94,
   "id": "d8a71ce2",
   "metadata": {},
   "outputs": [],
   "source": [
    "llist.add_first(40)"
   ]
  },
  {
   "cell_type": "code",
   "execution_count": 95,
   "id": "9299df57",
   "metadata": {},
   "outputs": [],
   "source": [
    "printer = print_next(llist)"
   ]
  },
  {
   "cell_type": "code",
   "execution_count": 104,
   "id": "87db50cc",
   "metadata": {},
   "outputs": [
    {
     "data": {
      "text/plain": [
       "30"
      ]
     },
     "execution_count": 104,
     "metadata": {},
     "output_type": "execute_result"
    }
   ],
   "source": [
    "next(printer)"
   ]
  },
  {
   "cell_type": "markdown",
   "id": "e27093e3",
   "metadata": {},
   "source": [
    "# Adicionando nó no final \n",
    "\n",
    "Complexidade: $N(n)$"
   ]
  },
  {
   "cell_type": "code",
   "execution_count": 117,
   "id": "c7d6776a",
   "metadata": {},
   "outputs": [],
   "source": [
    "class LinkedList:\n",
    "    def __init__(self):\n",
    "        self.head = None\n",
    "        \n",
    "    def add_first(self, value):\n",
    "        new_node = Node(value)\n",
    "        if self.head == None:\n",
    "            self.head = new_node\n",
    "            new_node.next = self.head\n",
    "        else:\n",
    "            last_node = self.head\n",
    "            while last_node.next != self.head:\n",
    "                last_node = last_node.next\n",
    "            \n",
    "            last_node.next = new_node\n",
    "            new_node.next = self.head\n",
    "            self.head = new_node\n",
    "            \n",
    "    def add_last(self, value):\n",
    "        new_node = Node(value)\n",
    "        if self.head == None:\n",
    "            self.head = new_node\n",
    "            new_node.next = self.head\n",
    "        else:\n",
    "            last_node = self.head\n",
    "            while last_node.next != self.head:\n",
    "                last_node = last_node.next\n",
    "            \n",
    "            last_node.next = new_node\n",
    "            new_node.next = self.head"
   ]
  },
  {
   "cell_type": "code",
   "execution_count": 106,
   "id": "6d4ddf39",
   "metadata": {},
   "outputs": [],
   "source": [
    "llist = LinkedList()"
   ]
  },
  {
   "cell_type": "code",
   "execution_count": 107,
   "id": "877eee12",
   "metadata": {},
   "outputs": [],
   "source": [
    "llist.add_last(10)"
   ]
  },
  {
   "cell_type": "code",
   "execution_count": 108,
   "id": "dbd79923",
   "metadata": {},
   "outputs": [],
   "source": [
    "llist.add_last(20)"
   ]
  },
  {
   "cell_type": "code",
   "execution_count": 109,
   "id": "b5a16a59",
   "metadata": {},
   "outputs": [],
   "source": [
    "llist.add_last(30)"
   ]
  },
  {
   "cell_type": "code",
   "execution_count": 110,
   "id": "cfd9ddd6",
   "metadata": {},
   "outputs": [],
   "source": [
    "printer = print_next(llist)"
   ]
  },
  {
   "cell_type": "code",
   "execution_count": 116,
   "id": "eddd1ec8",
   "metadata": {},
   "outputs": [
    {
     "data": {
      "text/plain": [
       "10"
      ]
     },
     "execution_count": 116,
     "metadata": {},
     "output_type": "execute_result"
    }
   ],
   "source": [
    "next(printer)"
   ]
  },
  {
   "cell_type": "markdown",
   "id": "2fdedc01",
   "metadata": {},
   "source": [
    "# Fazendo busca por nó\n",
    "\n",
    "Complexidade quando não sabe onde está o nó: $O(n)$\n",
    "\n",
    "Quando sabe onde está o nó: $O(1)$"
   ]
  },
  {
   "cell_type": "code",
   "execution_count": 125,
   "id": "8e514d13",
   "metadata": {},
   "outputs": [],
   "source": [
    "class LinkedList:\n",
    "    def __init__(self):\n",
    "        self.head = None\n",
    "        \n",
    "    def add_first(self, value):\n",
    "        new_node = Node(value)\n",
    "        if self.head == None:\n",
    "            self.head = new_node\n",
    "            new_node.next = self.head\n",
    "        else:\n",
    "            last_node = self.head\n",
    "            while last_node.next != self.head:\n",
    "                last_node = last_node.next\n",
    "            \n",
    "            last_node.next = new_node\n",
    "            new_node.next = self.head\n",
    "            self.head = new_node\n",
    "            \n",
    "    def add_last(self, value):\n",
    "        new_node = Node(value)\n",
    "        if self.head == None:\n",
    "            self.head = new_node\n",
    "            new_node.next = self.head\n",
    "        else:\n",
    "            last_node = self.head\n",
    "            while last_node.next != self.head:\n",
    "                last_node = last_node.next\n",
    "            \n",
    "            last_node.next = new_node\n",
    "            new_node.next = self.head\n",
    "            \n",
    "    def search(self, key):\n",
    "        if self.head == None:\n",
    "            return False\n",
    "        else:\n",
    "            temp = self.head\n",
    "            while temp.next != self.head:\n",
    "                if temp.data == key:\n",
    "                    return True\n",
    "                temp = temp.next\n",
    "            return False"
   ]
  },
  {
   "cell_type": "code",
   "execution_count": 126,
   "id": "4487208d",
   "metadata": {},
   "outputs": [],
   "source": [
    "llist = LinkedList()"
   ]
  },
  {
   "cell_type": "code",
   "execution_count": 127,
   "id": "102a3ec8",
   "metadata": {},
   "outputs": [],
   "source": [
    "llist.add_last(10)\n",
    "llist.add_first(20)\n",
    "llist.add_first(30)"
   ]
  },
  {
   "cell_type": "code",
   "execution_count": 128,
   "id": "4c0ac7a4",
   "metadata": {},
   "outputs": [
    {
     "data": {
      "text/plain": [
       "True"
      ]
     },
     "execution_count": 128,
     "metadata": {},
     "output_type": "execute_result"
    }
   ],
   "source": [
    "llist.search(20)"
   ]
  },
  {
   "cell_type": "code",
   "execution_count": 129,
   "id": "7ec28e14",
   "metadata": {},
   "outputs": [
    {
     "data": {
      "text/plain": [
       "False"
      ]
     },
     "execution_count": 129,
     "metadata": {},
     "output_type": "execute_result"
    }
   ],
   "source": [
    "llist.search(40)"
   ]
  },
  {
   "cell_type": "code",
   "execution_count": null,
   "id": "35982296",
   "metadata": {},
   "outputs": [],
   "source": []
  }
 ],
 "metadata": {
  "kernelspec": {
   "display_name": "Python 3 (ipykernel)",
   "language": "python",
   "name": "python3"
  },
  "language_info": {
   "codemirror_mode": {
    "name": "ipython",
    "version": 3
   },
   "file_extension": ".py",
   "mimetype": "text/x-python",
   "name": "python",
   "nbconvert_exporter": "python",
   "pygments_lexer": "ipython3",
   "version": "3.10.4"
  }
 },
 "nbformat": 4,
 "nbformat_minor": 5
}
