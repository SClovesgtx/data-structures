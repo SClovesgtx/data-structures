{
 "cells": [
  {
   "cell_type": "markdown",
   "id": "41db260e",
   "metadata": {},
   "source": [
    "# Queue no Log2Base2"
   ]
  },
  {
   "cell_type": "markdown",
   "id": "8bbbaae7",
   "metadata": {},
   "source": [
    "O que chega primeiro é atendido primeiro.\n",
    "\n",
    "A item chega de um lado, é \"atendido\" e sai do outro lado.\n",
    "\n",
    "![queue](imgs/queue.png)"
   ]
  },
  {
   "cell_type": "code",
   "execution_count": 19,
   "id": "279c4903",
   "metadata": {},
   "outputs": [],
   "source": [
    "class Queue:\n",
    "    \n",
    "    def __init__(self, size):\n",
    "        self.arr = [None] * size\n",
    "        self.front = 0\n",
    "        self.rear = 0\n",
    "        self.size = size\n",
    "        \n",
    "    def enqueue(self, value):\n",
    "        if self.rear == self.size:\n",
    "            print(\"Queue is full!\")\n",
    "        else:\n",
    "            self.arr[self.rear] = value\n",
    "            self.rear += 1\n",
    "            \n",
    "    def dequeue(self):\n",
    "        if self.front == self.rear:\n",
    "            print(\"Queue is empty!\")\n",
    "        else:\n",
    "            print(f\"Element to be dequeue: {self.arr[self.front]}\")\n",
    "            self.front += 1\n",
    "    \n",
    "    def __repr__(self):\n",
    "        rep = \"Queue([\"\n",
    "        for idx in range(self.front , self.size):\n",
    "            rep += str(self.arr[idx])\n",
    "            if idx + 1 == self.size:\n",
    "                rep += \"])\"\n",
    "            else:\n",
    "                rep += \", \"\n",
    "        return rep\n",
    "            "
   ]
  },
  {
   "cell_type": "code",
   "execution_count": 20,
   "id": "85177183",
   "metadata": {},
   "outputs": [],
   "source": [
    "queue = Queue(size=3)"
   ]
  },
  {
   "cell_type": "code",
   "execution_count": 21,
   "id": "19e96103",
   "metadata": {},
   "outputs": [],
   "source": [
    "for item in [1, 2, 3]:\n",
    "    queue.enqueue(item)"
   ]
  },
  {
   "cell_type": "code",
   "execution_count": 22,
   "id": "292d6c62",
   "metadata": {},
   "outputs": [
    {
     "data": {
      "text/plain": [
       "Queue([1, 2, 3])"
      ]
     },
     "execution_count": 22,
     "metadata": {},
     "output_type": "execute_result"
    }
   ],
   "source": [
    "queue"
   ]
  },
  {
   "cell_type": "code",
   "execution_count": 23,
   "id": "e0deb501",
   "metadata": {},
   "outputs": [
    {
     "name": "stdout",
     "output_type": "stream",
     "text": [
      "Element to be dequeue: 1\n"
     ]
    }
   ],
   "source": [
    "queue.dequeue()"
   ]
  },
  {
   "cell_type": "code",
   "execution_count": 24,
   "id": "00ecea2e",
   "metadata": {},
   "outputs": [
    {
     "data": {
      "text/plain": [
       "Queue([2, 3])"
      ]
     },
     "execution_count": 24,
     "metadata": {},
     "output_type": "execute_result"
    }
   ],
   "source": [
    "queue"
   ]
  },
  {
   "cell_type": "code",
   "execution_count": 25,
   "id": "9b3dd5a1",
   "metadata": {},
   "outputs": [
    {
     "name": "stdout",
     "output_type": "stream",
     "text": [
      "Element to be dequeue: 2\n"
     ]
    }
   ],
   "source": [
    "queue.dequeue()"
   ]
  },
  {
   "cell_type": "code",
   "execution_count": 26,
   "id": "34ca02b0",
   "metadata": {},
   "outputs": [
    {
     "data": {
      "text/plain": [
       "Queue([3])"
      ]
     },
     "execution_count": 26,
     "metadata": {},
     "output_type": "execute_result"
    }
   ],
   "source": [
    "queue"
   ]
  },
  {
   "cell_type": "code",
   "execution_count": null,
   "id": "63577c46",
   "metadata": {},
   "outputs": [],
   "source": []
  }
 ],
 "metadata": {
  "kernelspec": {
   "display_name": "Python 3 (ipykernel)",
   "language": "python",
   "name": "python3"
  },
  "language_info": {
   "codemirror_mode": {
    "name": "ipython",
    "version": 3
   },
   "file_extension": ".py",
   "mimetype": "text/x-python",
   "name": "python",
   "nbconvert_exporter": "python",
   "pygments_lexer": "ipython3",
   "version": "3.10.4"
  }
 },
 "nbformat": 4,
 "nbformat_minor": 5
}
