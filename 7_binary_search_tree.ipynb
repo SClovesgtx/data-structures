{
 "cells": [
  {
   "cell_type": "markdown",
   "id": "d5ac4df6",
   "metadata": {},
   "source": [
    "# Complexidade"
   ]
  },
  {
   "cell_type": "markdown",
   "id": "8e2236e2",
   "metadata": {},
   "source": [
    "![complexidade](imgs/complexidade_search_tree.png)"
   ]
  },
  {
   "cell_type": "markdown",
   "id": "29391740",
   "metadata": {},
   "source": [
    "Para encontrar um elemento nos $n$ nós da árvore, vc irá para um dos lados da raiz, sobrando $n/2$ nós para avaliar, depois vai para um dos lados deste nó filho, restando mais $n/4$ nós para avaliar e assim por diante até restar 1 único nó.\n",
    "\n",
    "Temos então:\n",
    "\n",
    "![cálculo](imgs/calculo_complexidade_search_tree.png)"
   ]
  },
  {
   "cell_type": "code",
   "execution_count": null,
   "id": "ad20bf28",
   "metadata": {},
   "outputs": [],
   "source": []
  }
 ],
 "metadata": {
  "kernelspec": {
   "display_name": "Python 3 (ipykernel)",
   "language": "python",
   "name": "python3"
  },
  "language_info": {
   "codemirror_mode": {
    "name": "ipython",
    "version": 3
   },
   "file_extension": ".py",
   "mimetype": "text/x-python",
   "name": "python",
   "nbconvert_exporter": "python",
   "pygments_lexer": "ipython3",
   "version": "3.10.4"
  }
 },
 "nbformat": 4,
 "nbformat_minor": 5
}
