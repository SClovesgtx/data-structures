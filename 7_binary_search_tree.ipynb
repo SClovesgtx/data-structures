{
 "cells": [
  {
   "cell_type": "markdown",
   "id": "74bb1ed9",
   "metadata": {},
   "source": [
    "# Binary Tree"
   ]
  },
  {
   "cell_type": "markdown",
   "id": "bf01f87b",
   "metadata": {},
   "source": [
    "![](imgs/binary_tree.png)"
   ]
  },
  {
   "cell_type": "markdown",
   "id": "76d1ab80",
   "metadata": {},
   "source": [
    "Vocabulary:\n",
    "\n",
    "- root nodes\n",
    "- internal nodes\n",
    "- leafs nodes\n",
    "- parant node\n",
    "- child nodes\n",
    "- levels 1, 2, 3, etc\n",
    "- depth of a node: number of branchs until the node\n",
    "- Height of a node: the longst distance to a leaf node.  "
   ]
  },
  {
   "cell_type": "markdown",
   "id": "026618c3",
   "metadata": {},
   "source": [
    "# Need for Binary Search Tree"
   ]
  },
  {
   "cell_type": "markdown",
   "id": "96b4763c",
   "metadata": {},
   "source": [
    "- To search an item in array the complexity is $O(n)$ and to add a new item in the end of a dinamyc array is $O(n)$. That’s an expensive cost for an append\n",
    "- In linked list the insertion itself is $O(1)$ but the node finding is steel $O(n)$.\n",
    "\n",
    "- The binary search tree resolves these two problems."
   ]
  },
  {
   "cell_type": "markdown",
   "id": "7557397b",
   "metadata": {},
   "source": [
    "# Building a binary tree search by hand "
   ]
  },
  {
   "cell_type": "markdown",
   "id": "9b6a696b",
   "metadata": {},
   "source": [
    "![](imgs/criando_uma_binary_tree.png)"
   ]
  },
  {
   "cell_type": "markdown",
   "id": "d5ac4df6",
   "metadata": {},
   "source": [
    "# Complexidade"
   ]
  },
  {
   "cell_type": "markdown",
   "id": "8e2236e2",
   "metadata": {},
   "source": [
    "![complexidade](imgs/complexidade_search_tree.png)"
   ]
  },
  {
   "cell_type": "markdown",
   "id": "29391740",
   "metadata": {},
   "source": [
    "Para encontrar um elemento nos $n$ nós da árvore, vc irá para um dos lados da raiz, sobrando $n/2$ nós para avaliar, depois vai para um dos lados deste nó filho, restando mais $n/4$ nós para avaliar e assim por diante até restar 1 único nó.\n",
    "\n",
    "Temos então:\n",
    "\n",
    "![cálculo](imgs/calculo_complexidade_search_tree.png)"
   ]
  },
  {
   "cell_type": "code",
   "execution_count": 2,
   "id": "ad20bf28",
   "metadata": {},
   "outputs": [],
   "source": [
    "class Node:\n",
    "    def __init__(self, value):\n",
    "        self.key = value\n",
    "        self.right = None\n",
    "        self.left = None"
   ]
  },
  {
   "cell_type": "code",
   "execution_count": 8,
   "id": "ceae02c2",
   "metadata": {},
   "outputs": [],
   "source": [
    "def insert(root, value):\n",
    "    if root == None:\n",
    "        return Node(value)\n",
    "    elif root.key < value:\n",
    "        root.right = insert(root.right, value)\n",
    "    elif root.key > value:\n",
    "        root.left = insert(root.left, value)\n",
    "    return root"
   ]
  },
  {
   "cell_type": "code",
   "execution_count": 9,
   "id": "dd1819d1",
   "metadata": {},
   "outputs": [],
   "source": [
    "root = None\n",
    "root = insert(root, 100)\n",
    "root = insert(root, 50)\n",
    "root = insert(root, 150)\n",
    "root = insert(root, 125)"
   ]
  },
  {
   "cell_type": "code",
   "execution_count": 12,
   "id": "03ac691a",
   "metadata": {},
   "outputs": [],
   "source": [
    "def inorder(root):\n",
    "    if root == None:\n",
    "        return\n",
    "    inorder(root.left)\n",
    "    print(root.key, end=\" \")\n",
    "    inorder(root.right)"
   ]
  },
  {
   "cell_type": "code",
   "execution_count": 13,
   "id": "d1ffbede",
   "metadata": {},
   "outputs": [
    {
     "name": "stdout",
     "output_type": "stream",
     "text": [
      "50 100 125 150 "
     ]
    }
   ],
   "source": [
    "inorder(root)"
   ]
  },
  {
   "cell_type": "code",
   "execution_count": 14,
   "id": "01f10da8",
   "metadata": {},
   "outputs": [],
   "source": [
    "def search(root, key):\n",
    "    if root == None:\n",
    "        return False\n",
    "    elif root.key == key:\n",
    "        return True\n",
    "    elif root.key < key:\n",
    "        return search(root.right, key)\n",
    "    elif root.key > key:\n",
    "        return search(root.left, key)"
   ]
  },
  {
   "cell_type": "code",
   "execution_count": 15,
   "id": "c685eb08",
   "metadata": {},
   "outputs": [
    {
     "data": {
      "text/plain": [
       "True"
      ]
     },
     "execution_count": 15,
     "metadata": {},
     "output_type": "execute_result"
    }
   ],
   "source": [
    "search(root, 125)"
   ]
  },
  {
   "cell_type": "code",
   "execution_count": 16,
   "id": "e5184e6a",
   "metadata": {},
   "outputs": [
    {
     "data": {
      "text/plain": [
       "False"
      ]
     },
     "execution_count": 16,
     "metadata": {},
     "output_type": "execute_result"
    }
   ],
   "source": [
    "search(root, 101)"
   ]
  },
  {
   "cell_type": "code",
   "execution_count": 17,
   "id": "bf371883",
   "metadata": {},
   "outputs": [],
   "source": [
    "def get_right_min(root):\n",
    "    temp = root\n",
    "    \n",
    "    while temp.left != None:\n",
    "        temp = root.left\n",
    "    \n",
    "    return temp.key\n",
    "\n",
    "def remove_node(root, value):\n",
    "    if root == None:\n",
    "        return  None\n",
    "    elif root.key < value:\n",
    "        root.right = remove_node(root.right, value)\n",
    "    elif root.key > value:\n",
    "        root.left = remove_node(root.left, value)\n",
    "    else:\n",
    "        if root.left == None and root.right == None:\n",
    "            return None\n",
    "        elif root.left == None:\n",
    "            return root.right\n",
    "        elif root.right == None:\n",
    "            return root.left\n",
    "        else:\n",
    "            right_min = get_right_min(root)\n",
    "            root.key = right_min\n",
    "            root.right = remove_node(root.right, right_min)\n",
    "    return root"
   ]
  },
  {
   "cell_type": "code",
   "execution_count": 23,
   "id": "65a6ca95",
   "metadata": {},
   "outputs": [],
   "source": [
    "root = None\n",
    "root = insert(root, 100)\n",
    "root = insert(root, 50)\n",
    "root = insert(root, 10)\n",
    "root = insert(root, 60)\n",
    "root = insert(root, 200)\n",
    "root = insert(root, 300)\n",
    "root = insert(root, 150)\n",
    "root = insert(root, 250)"
   ]
  },
  {
   "cell_type": "code",
   "execution_count": 24,
   "id": "63386c1d",
   "metadata": {},
   "outputs": [
    {
     "name": "stdout",
     "output_type": "stream",
     "text": [
      "10 50 60 100 150 200 250 300 "
     ]
    }
   ],
   "source": [
    "inorder(root)"
   ]
  },
  {
   "cell_type": "code",
   "execution_count": 25,
   "id": "1c475d0f",
   "metadata": {},
   "outputs": [
    {
     "data": {
      "text/plain": [
       "100"
      ]
     },
     "execution_count": 25,
     "metadata": {},
     "output_type": "execute_result"
    }
   ],
   "source": [
    "res = remove_node(root, 250)\n",
    "res.key"
   ]
  },
  {
   "cell_type": "code",
   "execution_count": 26,
   "id": "226a55c5",
   "metadata": {},
   "outputs": [
    {
     "name": "stdout",
     "output_type": "stream",
     "text": [
      "10 50 60 100 150 200 300 "
     ]
    }
   ],
   "source": [
    "inorder(root)"
   ]
  },
  {
   "cell_type": "code",
   "execution_count": 27,
   "id": "06d4abaa",
   "metadata": {},
   "outputs": [
    {
     "data": {
      "text/plain": [
       "100"
      ]
     },
     "execution_count": 27,
     "metadata": {},
     "output_type": "execute_result"
    }
   ],
   "source": [
    "res = remove_node(root, 150)\n",
    "res.key"
   ]
  },
  {
   "cell_type": "code",
   "execution_count": 28,
   "id": "8c7c9c82",
   "metadata": {},
   "outputs": [
    {
     "name": "stdout",
     "output_type": "stream",
     "text": [
      "10 50 60 100 200 300 "
     ]
    }
   ],
   "source": [
    "inorder(root)"
   ]
  },
  {
   "cell_type": "markdown",
   "id": "070a4d71",
   "metadata": {},
   "source": [
    "# Exercises"
   ]
  },
  {
   "cell_type": "markdown",
   "id": "b38a3b2d",
   "metadata": {},
   "source": [
    "- Hackerrank [Binary Search Tree : Insertion](https://www.hackerrank.com/challenges/binary-search-tree-insertion/problem?h_r=internal-search)"
   ]
  }
 ],
 "metadata": {
  "kernelspec": {
   "display_name": "Python 3 (ipykernel)",
   "language": "python",
   "name": "python3"
  },
  "language_info": {
   "codemirror_mode": {
    "name": "ipython",
    "version": 3
   },
   "file_extension": ".py",
   "mimetype": "text/x-python",
   "name": "python",
   "nbconvert_exporter": "python",
   "pygments_lexer": "ipython3",
   "version": "3.10.6"
  }
 },
 "nbformat": 4,
 "nbformat_minor": 5
}
