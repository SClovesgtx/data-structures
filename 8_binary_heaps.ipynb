{
 "cells": [
  {
   "cell_type": "markdown",
   "id": "7b1c2543",
   "metadata": {},
   "source": [
    "![](imgs/priority_queue.png)"
   ]
  },
  {
   "cell_type": "markdown",
   "id": "4576d1da",
   "metadata": {},
   "source": [
    "Uma fila, onde pode haver itens que precisam ser \"atendidos\" com prioridade, pode ser implementada de maneira eficiente com as Binary Heaps."
   ]
  },
  {
   "cell_type": "markdown",
   "id": "991205fc",
   "metadata": {},
   "source": [
    "# O que é uma Binary Heap?\n",
    "\n",
    "É uma binary tree completa. O que é uma binary tree completa?\n",
    "\n",
    "Antes disso, vamos ver uma binary tree inteira (full):\n",
    "\n",
    "![](imgs/full_binary_tree.png)\n",
    "\n",
    "Ou seja, uma binary tree inteira é aquela onde todos os nós tem exatamente dois filhos (com exceção dos nós folhas).\n",
    "\n",
    "Já a binary tree completa, pode ter filhos faltando, mas a última camada da árvore terá todas os nós folhas mais a esquerda (nunca à direita):\n",
    "\n",
    "![](imgs/complete_binary_tree.png)"
   ]
  },
  {
   "cell_type": "markdown",
   "id": "0ce08f96",
   "metadata": {},
   "source": [
    "# Há dois tipos de binary heap\n",
    "\n",
    "## 1ª - Min Binary Heap\n",
    "\n",
    "Os nós pais da árvore serão sempre MENORES que seus nós filhos.\n",
    "\n",
    "## 2ª - Max Binary Heap\n",
    "\n",
    "Os nós pais da árvore serão sempre MAIORES que seus nós filhos."
   ]
  },
  {
   "cell_type": "markdown",
   "id": "7e4f7dc4",
   "metadata": {},
   "source": [
    "# Construindo uma binary heap usando array"
   ]
  },
  {
   "cell_type": "markdown",
   "id": "ae9482eb",
   "metadata": {},
   "source": [
    "Toda a estrutura de uma árvore binary heap, dada sua característica de ser uma complete tree, pode ser armazenara num array.\n",
    "\n",
    "Para acessar os nós filhos de cada valor do array, basta seguir a seguinte regra: o nó pai que está no index $i$ terá seu filho à esquerda do index $2\\times i + 1$ e o filho à direira se encontra no index $2\\times i + 2$.\n",
    "\n",
    "Na imagem a seguir temos o exmplo de como acessar os filhos do nó que está na posição zero do array:"
   ]
  },
  {
   "cell_type": "markdown",
   "id": "fcbc06e2",
   "metadata": {},
   "source": [
    "![](imgs/binary_heap_array.png)"
   ]
  },
  {
   "cell_type": "markdown",
   "id": "558f052d",
   "metadata": {},
   "source": [
    "Agora vamos ver os filhos do nó que está na posição 1 do array:\n",
    "\n",
    "![](imgs/binary_heap_array_ex2.png)"
   ]
  },
  {
   "cell_type": "code",
   "execution_count": null,
   "id": "2a9af442",
   "metadata": {},
   "outputs": [],
   "source": []
  }
 ],
 "metadata": {
  "kernelspec": {
   "display_name": "Python 3 (ipykernel)",
   "language": "python",
   "name": "python3"
  },
  "language_info": {
   "codemirror_mode": {
    "name": "ipython",
    "version": 3
   },
   "file_extension": ".py",
   "mimetype": "text/x-python",
   "name": "python",
   "nbconvert_exporter": "python",
   "pygments_lexer": "ipython3",
   "version": "3.10.6"
  }
 },
 "nbformat": 4,
 "nbformat_minor": 5
}
