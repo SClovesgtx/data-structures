{
 "cells": [
  {
   "cell_type": "markdown",
   "id": "7b1c2543",
   "metadata": {},
   "source": [
    "![](imgs/priority_queue.png)"
   ]
  },
  {
   "cell_type": "markdown",
   "id": "4576d1da",
   "metadata": {},
   "source": [
    "Uma fila, onde pode haver itens que precisam ser \"atendidos\" com prioridade, pode ser implementada de maneira eficiente com as Binary Heaps."
   ]
  },
  {
   "cell_type": "markdown",
   "id": "991205fc",
   "metadata": {},
   "source": [
    "# O que é uma Binary Heap?\n",
    "\n",
    "É uma binary tree completa. O que é uma binary tree completa?\n",
    "\n",
    "Antes disso, vamos ver uma binary tree inteira (full):\n",
    "\n",
    "![](imgs/full_binary_tree.png)\n",
    "\n",
    "Ou seja, uma binary tree inteira é aquela onde todos os nós tem exatamente dois filhos (com exceção dos nós folhas).\n",
    "\n",
    "Já a binary tree completa, pode ter filhos faltando, mas a última camada da árvore terá todas os nós folhas mais a esquerda (nunca à direita):\n",
    "\n",
    "![](imgs/complete_binary_tree.png)"
   ]
  },
  {
   "cell_type": "markdown",
   "id": "0ce08f96",
   "metadata": {},
   "source": [
    "# Há dois tipos de binary heap\n",
    "\n",
    "## 1ª - Min Binary Heap\n",
    "\n",
    "Os nós pais da árvore serão sempre MENORES que seus nós filhos.\n",
    "\n",
    "## 2ª - Max Binary Heap\n",
    "\n",
    "Os nós pais da árvore serão sempre MAIORES que seus nós filhos."
   ]
  },
  {
   "cell_type": "markdown",
   "id": "7e4f7dc4",
   "metadata": {},
   "source": [
    "# Construindo uma binary heap usando array"
   ]
  },
  {
   "cell_type": "markdown",
   "id": "ae9482eb",
   "metadata": {},
   "source": [
    "Toda a estrutura de uma árvore binary heap, dada sua característica de ser uma complete tree, pode ser armazenara num array.\n",
    "\n",
    "Para acessar os nós filhos de cada valor do array, basta seguir a seguinte regra: o nó pai que está no index $i$ terá seu filho à esquerda do index $2\\times i + 1$ e o filho à direira se encontra no index $2\\times i + 2$.\n",
    "\n",
    "Na imagem a seguir temos o exmplo de como acessar os filhos do nó que está na posição zero do array:"
   ]
  },
  {
   "cell_type": "markdown",
   "id": "fcbc06e2",
   "metadata": {},
   "source": [
    "![](imgs/binary_heap_array.png)"
   ]
  },
  {
   "cell_type": "markdown",
   "id": "558f052d",
   "metadata": {},
   "source": [
    "Agora vamos ver os filhos do nó que está na posição 1 do array:\n",
    "\n",
    "![](imgs/binary_heap_array_ex2.png)"
   ]
  },
  {
   "cell_type": "markdown",
   "id": "dd3c529a",
   "metadata": {},
   "source": [
    "# Max heap"
   ]
  },
  {
   "cell_type": "code",
   "execution_count": 9,
   "id": "97089d33",
   "metadata": {},
   "outputs": [],
   "source": [
    "def build_heap(arr: list):\n",
    "    size = len(arr)\n",
    "    if size == 0:\n",
    "        raise Exception(\"Array must not be empty!\")\n",
    "    i = int(size/2)\n",
    "    while i >= 0:\n",
    "        heapify(arr, i, size)\n",
    "        i -= 1\n",
    "    return arr\n",
    "    \n",
    "def heapify(arr: list, index: int, size: int):\n",
    "    \n",
    "    # aplicando a regrinha de posicionamento\n",
    "    # dos nós filhos no array\n",
    "    left = 2*index + 1\n",
    "    right = 2*index + 2\n",
    "    \n",
    "    # partir do princípio que a sub-árvore \n",
    "    # satisfaz o critério de ter no root com \n",
    "    # valor maior que os filhos\n",
    "    max_value_index = index\n",
    "    \n",
    "    # se o nó filho à esquerda for maior\n",
    "    # que pai, então dizemos que o filho em questão é o maior\n",
    "    if left < size and arr[left] > arr[max_value_index]:\n",
    "        max_value_index = left\n",
    "        \n",
    "    # se o irmão a direita é maior\n",
    "    # então atualizamos a informação que o maior\n",
    "    # é o que está à direita\n",
    "    if right < size and arr[right] > arr[max_value_index]:\n",
    "        max_value_index = right\n",
    "        \n",
    "    #  caso um dos filhos seja maior\n",
    "    if max_value_index != index:\n",
    "        \n",
    "        # colocamos o filho maior \n",
    "        # na posição de pai e o antigo\n",
    "        # pai é rebaixado a filho\n",
    "        temp = arr[index]\n",
    "        arr[index] = arr[max_value_index]\n",
    "        arr[max_value_index] = temp\n",
    "        \n",
    "        # arrumar a casa (repetir o mesmo trabalho que foi feito até aqui)\n",
    "        # a partir da nova posição do \"pai rebaixado\" a filho\n",
    "        # obs: trabalho recursivo\n",
    "        heapify(arr, max_value_index, size)\n",
    "        \n",
    "def delete_max(arr):\n",
    "    size = len(arr)\n",
    "    arr[0], arr[-1] = arr[-1], arr[0]\n",
    "    arr.pop()\n",
    "    heapify(arr, 0, len(arr))"
   ]
  },
  {
   "cell_type": "code",
   "execution_count": 10,
   "id": "d8bd85e5",
   "metadata": {},
   "outputs": [
    {
     "data": {
      "text/plain": [
       "[90, 53, 12, 40, 50, 10]"
      ]
     },
     "execution_count": 10,
     "metadata": {},
     "output_type": "execute_result"
    }
   ],
   "source": [
    "arr = [10, 50, 12, 40, 53, 90]\n",
    "build_heap(arr=arr)\n",
    "arr"
   ]
  },
  {
   "cell_type": "code",
   "execution_count": 11,
   "id": "0fe28b89",
   "metadata": {},
   "outputs": [],
   "source": [
    "#   Árvore da célula anterior montada\n",
    "\n",
    "#         90\n",
    "#       /    \\\n",
    "#     53      12\n",
    "#    /  \\    /\n",
    "#  40   50  10 "
   ]
  },
  {
   "cell_type": "code",
   "execution_count": 12,
   "id": "8dbee974",
   "metadata": {},
   "outputs": [
    {
     "data": {
      "text/plain": [
       "[53, 50, 12, 40, 10]"
      ]
     },
     "execution_count": 12,
     "metadata": {},
     "output_type": "execute_result"
    }
   ],
   "source": [
    "delete_max(arr)\n",
    "arr"
   ]
  },
  {
   "cell_type": "code",
   "execution_count": 15,
   "id": "587f0518",
   "metadata": {},
   "outputs": [],
   "source": [
    "#   Árvore da célula anterior montada\n",
    "\n",
    "#         53\n",
    "#       /    \\\n",
    "#     50      12\n",
    "#    /  \\    \n",
    "#  40   10   "
   ]
  },
  {
   "cell_type": "code",
   "execution_count": 13,
   "id": "5509892b",
   "metadata": {},
   "outputs": [
    {
     "data": {
      "text/plain": [
       "[50, 40, 12, 10]"
      ]
     },
     "execution_count": 13,
     "metadata": {},
     "output_type": "execute_result"
    }
   ],
   "source": [
    "delete_max(arr)\n",
    "arr"
   ]
  },
  {
   "cell_type": "code",
   "execution_count": 14,
   "id": "c0c5992d",
   "metadata": {},
   "outputs": [],
   "source": [
    "#   Árvore da célula anterior montada\n",
    "\n",
    "#         50\n",
    "#       /    \\\n",
    "#     40      12\n",
    "#    /      \n",
    "#  10      "
   ]
  },
  {
   "cell_type": "code",
   "execution_count": 16,
   "id": "bceb8c40",
   "metadata": {},
   "outputs": [
    {
     "data": {
      "text/plain": [
       "[40, 10, 12]"
      ]
     },
     "execution_count": 16,
     "metadata": {},
     "output_type": "execute_result"
    }
   ],
   "source": [
    "delete_max(arr)\n",
    "arr"
   ]
  },
  {
   "cell_type": "code",
   "execution_count": 17,
   "id": "36740bf6",
   "metadata": {},
   "outputs": [],
   "source": [
    "#   Árvore da célula anterior montada\n",
    "\n",
    "#         40\n",
    "#       /    \\\n",
    "#     10      12"
   ]
  },
  {
   "cell_type": "code",
   "execution_count": 18,
   "id": "a8041a8c",
   "metadata": {},
   "outputs": [
    {
     "data": {
      "text/plain": [
       "[12, 10]"
      ]
     },
     "execution_count": 18,
     "metadata": {},
     "output_type": "execute_result"
    }
   ],
   "source": [
    "delete_max(arr)\n",
    "arr"
   ]
  },
  {
   "cell_type": "code",
   "execution_count": 19,
   "id": "c7d257d7",
   "metadata": {},
   "outputs": [],
   "source": [
    "#   Árvore da célula anterior montada\n",
    "\n",
    "#         12\n",
    "#       /\n",
    "#     10 "
   ]
  },
  {
   "cell_type": "code",
   "execution_count": 20,
   "id": "1de44322",
   "metadata": {},
   "outputs": [
    {
     "data": {
      "text/plain": [
       "[10]"
      ]
     },
     "execution_count": 20,
     "metadata": {},
     "output_type": "execute_result"
    }
   ],
   "source": [
    "delete_max(arr)\n",
    "arr"
   ]
  },
  {
   "cell_type": "code",
   "execution_count": 21,
   "id": "a495b02a",
   "metadata": {},
   "outputs": [
    {
     "data": {
      "text/plain": [
       "[]"
      ]
     },
     "execution_count": 21,
     "metadata": {},
     "output_type": "execute_result"
    }
   ],
   "source": [
    "delete_max(arr)\n",
    "arr"
   ]
  },
  {
   "cell_type": "markdown",
   "id": "4c15efb8",
   "metadata": {},
   "source": [
    "## Min Heap"
   ]
  },
  {
   "cell_type": "markdown",
   "id": "05daffda",
   "metadata": {},
   "source": [
    "### How is Min Heap represented ? \n",
    "\n",
    "A Min Heap is a Complete Binary Tree. A Min heap is typically represented as an array. The root element will be at Arr\\[0\\]. For any ith node, i.e., Arr\\[i\\]:\n",
    "\n",
    "* **Arr[(i -1) / 2]**: returns its parent node.\n",
    "* **Arr[(2 \\* i) + 1]**: returns its left child node.\n",
    "* **Arr[(2 \\* i) + 2]**: returns its right child node.\n",
    "\n",
    "### Operations on Min Heap\n",
    "\n",
    "* **getMin()**: It returns the root element of Min Heap. Time Complexity of this operation is $\\mathcal{O}(1)$.\n",
    "* **extractMin()**: Removes the minimum element from MinHeap. Time Complexity of this Operation is $\\mathcal{O}(\\log_2{n})$ as this operation needs to maintain the heap property (by calling heapify()) after removing root.\n",
    "* **insert()**: Inserting a new key takes $\\mathcal{O}(\\log_2{n})$ time. We add a new key at the end of the tree. If new key is larger than its parent, then we don’t need to do anything. Otherwise, we need to traverse up to fix the violated heap property."
   ]
  },
  {
   "cell_type": "markdown",
   "id": "bc7e5320",
   "metadata": {},
   "source": [
    "[Min Heap in Python](https://www.geeksforgeeks.org/min-heap-in-python/)"
   ]
  },
  {
   "cell_type": "code",
   "execution_count": 1,
   "id": "a0159159",
   "metadata": {},
   "outputs": [],
   "source": [
    "# Python3 implementation of Min Heap\n",
    "  \n",
    "import sys\n",
    "  \n",
    "class MinHeap:\n",
    "  \n",
    "    def __init__(self, maxsize):\n",
    "        self.maxsize = maxsize\n",
    "        self.size = 0\n",
    "        self.Heap = [0]*(self.maxsize + 1)\n",
    "        self.Heap[0] = -1 * sys.maxsize\n",
    "        self.FRONT = 1\n",
    "  \n",
    "    # Function to return the position of\n",
    "    # parent for the node currently\n",
    "    # at pos\n",
    "    def parent(self, pos):\n",
    "        return pos//2\n",
    "  \n",
    "    # Function to return the position of\n",
    "    # the left child for the node currently\n",
    "    # at pos\n",
    "    def leftChild(self, pos):\n",
    "        return 2 * pos\n",
    "  \n",
    "    # Function to return the position of\n",
    "    # the right child for the node currently\n",
    "    # at pos\n",
    "    def rightChild(self, pos):\n",
    "        return (2 * pos) + 1\n",
    "  \n",
    "    # Function that returns true if the passed\n",
    "    # node is a leaf node\n",
    "    def isLeaf(self, pos):\n",
    "        return pos*2 > self.size\n",
    "  \n",
    "    # Function to swap two nodes of the heap\n",
    "    def swap(self, fpos, spos):\n",
    "        self.Heap[fpos], self.Heap[spos] = self.Heap[spos], self.Heap[fpos]\n",
    "  \n",
    "    # Function to heapify the node at pos\n",
    "    def minHeapify(self, pos):\n",
    "  \n",
    "        # If the node is a non-leaf node and greater\n",
    "        # than any of its child\n",
    "        if not self.isLeaf(pos):\n",
    "            if (self.Heap[pos] > self.Heap[self.leftChild(pos)] or \n",
    "               self.Heap[pos] > self.Heap[self.rightChild(pos)]):\n",
    "  \n",
    "                # Swap with the left child and heapify\n",
    "                # the left child\n",
    "                if self.Heap[self.leftChild(pos)] < self.Heap[self.rightChild(pos)]:\n",
    "                    self.swap(pos, self.leftChild(pos))\n",
    "                    self.minHeapify(self.leftChild(pos))\n",
    "  \n",
    "                # Swap with the right child and heapify\n",
    "                # the right child\n",
    "                else:\n",
    "                    self.swap(pos, self.rightChild(pos))\n",
    "                    self.minHeapify(self.rightChild(pos))\n",
    "  \n",
    "    # Function to insert a node into the heap\n",
    "    def insert(self, element):\n",
    "        if self.size >= self.maxsize :\n",
    "            return\n",
    "        self.size+= 1\n",
    "        self.Heap[self.size] = element\n",
    "  \n",
    "        current = self.size\n",
    "  \n",
    "        while self.Heap[current] < self.Heap[self.parent(current)]:\n",
    "            self.swap(current, self.parent(current))\n",
    "            current = self.parent(current)\n",
    "  \n",
    "    # Function to print the contents of the heap\n",
    "    def Print(self):\n",
    "        for i in range(1, (self.size//2)+1):\n",
    "            print(\" PARENT : \"+ str(self.Heap[i])+\" LEFT CHILD : \"+ \n",
    "                                str(self.Heap[2 * i])+\" RIGHT CHILD : \"+\n",
    "                                str(self.Heap[2 * i + 1]))\n",
    "  \n",
    "    # Function to build the min heap using\n",
    "    # the minHeapify function\n",
    "    def minHeap(self):\n",
    "  \n",
    "        for pos in range(self.size//2, 0, -1):\n",
    "            self.minHeapify(pos)\n",
    "  \n",
    "    # Function to remove and return the minimum\n",
    "    # element from the heap\n",
    "    def remove(self):\n",
    "  \n",
    "        popped = self.Heap[self.FRONT]\n",
    "        self.Heap[self.FRONT] = self.Heap[self.size]\n",
    "        self.size-= 1\n",
    "        self.minHeapify(self.FRONT)\n",
    "        return popped"
   ]
  },
  {
   "cell_type": "code",
   "execution_count": 2,
   "id": "6cd86eb3",
   "metadata": {},
   "outputs": [
    {
     "name": "stdout",
     "output_type": "stream",
     "text": [
      " PARENT : 3 LEFT CHILD : 5 RIGHT CHILD : 6\n",
      " PARENT : 5 LEFT CHILD : 9 RIGHT CHILD : 84\n",
      " PARENT : 6 LEFT CHILD : 19 RIGHT CHILD : 17\n",
      " PARENT : 9 LEFT CHILD : 22 RIGHT CHILD : 10\n"
     ]
    }
   ],
   "source": [
    "minHeap = MinHeap(15)\n",
    "minHeap.insert(5)\n",
    "minHeap.insert(3)\n",
    "minHeap.insert(17)\n",
    "minHeap.insert(10)\n",
    "minHeap.insert(84)\n",
    "minHeap.insert(19)\n",
    "minHeap.insert(6)\n",
    "minHeap.insert(22)\n",
    "minHeap.insert(9)\n",
    "minHeap.minHeap()\n",
    "\n",
    "minHeap.Print()"
   ]
  },
  {
   "cell_type": "markdown",
   "id": "14d02e9e",
   "metadata": {},
   "source": [
    "## Heap in Python"
   ]
  },
  {
   "cell_type": "code",
   "execution_count": 3,
   "id": "d433a811",
   "metadata": {},
   "outputs": [],
   "source": [
    "from heapq import heapify, heappush, heappop"
   ]
  },
  {
   "cell_type": "code",
   "execution_count": 22,
   "id": "600001ab",
   "metadata": {},
   "outputs": [],
   "source": [
    "# Creating empty heap\n",
    "heap = []\n",
    "heapify(heap)"
   ]
  },
  {
   "cell_type": "code",
   "execution_count": 23,
   "id": "f2f86e37",
   "metadata": {},
   "outputs": [],
   "source": [
    "# Adding items to the heap using heappush function\n",
    "heappush(heap, 50)\n",
    "heappush(heap, 30)\n",
    "heappush(heap, 20)\n",
    "heappush(heap, 400)"
   ]
  },
  {
   "cell_type": "code",
   "execution_count": 24,
   "id": "6d802d82",
   "metadata": {},
   "outputs": [
    {
     "name": "stdout",
     "output_type": "stream",
     "text": [
      "Head value of heap : 20\n"
     ]
    }
   ],
   "source": [
    "# printing the value of minimum element\n",
    "print(\"Head value of heap : \"+str(heap[0]))"
   ]
  },
  {
   "cell_type": "code",
   "execution_count": 25,
   "id": "45c928e1",
   "metadata": {},
   "outputs": [
    {
     "name": "stdout",
     "output_type": "stream",
     "text": [
      "The heap elements : \n",
      "20 50 30 400 \n",
      "\n"
     ]
    }
   ],
   "source": [
    "# printing the elements of the heap\n",
    "def print_heap(heap):\n",
    "    print(\"The heap elements : \")\n",
    "    for i in heap:\n",
    "        print(i, end = ' ')\n",
    "    print(\"\\n\")\n",
    "print_heap(heap)"
   ]
  },
  {
   "cell_type": "code",
   "execution_count": 27,
   "id": "22b2d65d",
   "metadata": {},
   "outputs": [
    {
     "name": "stdout",
     "output_type": "stream",
     "text": [
      "The heap elements : \n",
      "30 50 400 \n",
      "\n"
     ]
    }
   ],
   "source": [
    "# deleting the i element\n",
    "# heap[2] = heap[-1]\n",
    "# heap.pop()\n",
    "# heapify(heap)\n",
    "# print_heap(heap)\n",
    "heappop(heap)\n",
    "print_heap(heap)"
   ]
  },
  {
   "cell_type": "code",
   "execution_count": 14,
   "id": "ceb1bd95",
   "metadata": {},
   "outputs": [],
   "source": [
    "# deleting the min element\n",
    "element = heappop(heap)"
   ]
  },
  {
   "cell_type": "code",
   "execution_count": 15,
   "id": "964f2d5c",
   "metadata": {},
   "outputs": [
    {
     "name": "stdout",
     "output_type": "stream",
     "text": [
      "The heap elements : \n",
      "30 400 \n",
      "\n"
     ]
    }
   ],
   "source": [
    "print_heap(heap)"
   ]
  },
  {
   "cell_type": "markdown",
   "id": "76894eff",
   "metadata": {},
   "source": [
    "# Exercícios no HackerRank\n",
    "\n",
    "1 - [QHEAP1](https://www.hackerrank.com/challenges/qheap1/problem?isFullScreen=true)"
   ]
  },
  {
   "cell_type": "markdown",
   "id": "d01c173a",
   "metadata": {},
   "source": [
    "Minha primeira tentativa que não passou no teste de otimização (Time limit exceeded).\n",
    "```python\n",
    "from heapq import heapify, heappush, heappop\n",
    "\n",
    "n_querys = int(input())\n",
    "heap = []\n",
    "for i in range(n_querys):\n",
    "    q = list( map( int, input().split() ) )\n",
    "    if q[0] == 1:\n",
    "        heappush(heap, q[1])\n",
    "    elif q[0] == 2:\n",
    "        item_i = heap.index(q[1])\n",
    "        heap[item_i] = heap[-1]\n",
    "        heap.pop()\n",
    "        heapify(heap)\n",
    "    else:\n",
    "        print(heap[0])\n",
    "```"
   ]
  },
  {
   "cell_type": "code",
   "execution_count": null,
   "id": "62d78547",
   "metadata": {},
   "outputs": [],
   "source": []
  }
 ],
 "metadata": {
  "kernelspec": {
   "display_name": "Python 3 (ipykernel)",
   "language": "python",
   "name": "python3"
  },
  "language_info": {
   "codemirror_mode": {
    "name": "ipython",
    "version": 3
   },
   "file_extension": ".py",
   "mimetype": "text/x-python",
   "name": "python",
   "nbconvert_exporter": "python",
   "pygments_lexer": "ipython3",
   "version": "3.10.6"
  }
 },
 "nbformat": 4,
 "nbformat_minor": 5
}
