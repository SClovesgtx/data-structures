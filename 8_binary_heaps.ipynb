{
 "cells": [
  {
   "cell_type": "markdown",
   "id": "7b1c2543",
   "metadata": {},
   "source": [
    "![](imgs/priority_queue.png)"
   ]
  },
  {
   "cell_type": "markdown",
   "id": "4576d1da",
   "metadata": {},
   "source": [
    "Uma fila, onde pode haver itens que precisam ser \"atendidos\" com prioridade, pode ser implementada de maneira eficiente com as Binary Heaps."
   ]
  },
  {
   "cell_type": "markdown",
   "id": "991205fc",
   "metadata": {},
   "source": [
    "# O que é uma Binary Heap?\n",
    "\n",
    "É uma binary tree completa. O que é uma binary tree completa?\n",
    "\n",
    "Antes disso, vamos ver uma binary tree inteira (full):\n",
    "\n",
    "![](imgs/full_binary_tree.png)\n",
    "\n",
    "Ou seja, uma binary tree inteira é aquela onde todos os nós tem exatamente dois filhos (com exceção dos nós folhas).\n",
    "\n",
    "Já a binary tree completa, pode ter filhos faltando, mas a última camada da árvore terá todas os nós folhas mais a esquerda (nunca à direita):\n",
    "\n",
    "![](imgs/complete_binary_tree.png)"
   ]
  },
  {
   "cell_type": "markdown",
   "id": "0ce08f96",
   "metadata": {},
   "source": [
    "# Há dois tipos de binary heap\n",
    "\n",
    "## 1ª - Min Binary Heap\n",
    "\n",
    "Os nós pais da árvore serão sempre MENORES que seus nós filhos.\n",
    "\n",
    "## 2ª - Max Binary Heap\n",
    "\n",
    "Os nós pais da árvore serão sempre MAIORES que seus nós filhos."
   ]
  },
  {
   "cell_type": "markdown",
   "id": "7e4f7dc4",
   "metadata": {},
   "source": [
    "# Construindo uma binary heap usando array"
   ]
  },
  {
   "cell_type": "markdown",
   "id": "ae9482eb",
   "metadata": {},
   "source": [
    "Toda a estrutura de uma árvore binary heap, dada sua característica de ser uma complete tree, pode ser armazenara num array.\n",
    "\n",
    "Para acessar os nós filhos de cada valor do array, basta seguir a seguinte regra: o nó pai que está no index $i$ terá seu filho à esquerda do index $2\\times i + 1$ e o filho à direira se encontra no index $2\\times i + 2$.\n",
    "\n",
    "Na imagem a seguir temos o exmplo de como acessar os filhos do nó que está na posição zero do array:"
   ]
  },
  {
   "cell_type": "markdown",
   "id": "fcbc06e2",
   "metadata": {},
   "source": [
    "![](imgs/binary_heap_array.png)"
   ]
  },
  {
   "cell_type": "markdown",
   "id": "558f052d",
   "metadata": {},
   "source": [
    "Agora vamos ver os filhos do nó que está na posição 1 do array:\n",
    "\n",
    "![](imgs/binary_heap_array_ex2.png)"
   ]
  },
  {
   "cell_type": "markdown",
   "id": "dd3c529a",
   "metadata": {},
   "source": [
    "# Construindo uma complete tree num array"
   ]
  },
  {
   "cell_type": "code",
   "execution_count": 5,
   "id": "97089d33",
   "metadata": {},
   "outputs": [],
   "source": [
    "def build_heap(arr: list):\n",
    "    size = len(arr)\n",
    "    if size == 0:\n",
    "        raise Exception(\"Array must not be empty!\")\n",
    "    i = int(size/2)\n",
    "    while i >= 0:\n",
    "        heapify(arr, i, size)\n",
    "        i -= 1\n",
    "    return arr\n",
    "    \n",
    "def heapify(arr: list, index: int, size: int):\n",
    "    \n",
    "    # aplicando a regrinha de posicionamento\n",
    "    # dos nós filhos no array\n",
    "    left = 2*index + 1\n",
    "    right = 2*index + 2\n",
    "    \n",
    "    # partir do princípio que a sub-árvore \n",
    "    # satisfaz o critério de ter no root com \n",
    "    # valor maior que os filhos\n",
    "    max_value_index = index\n",
    "    \n",
    "    # se o nó filho à esquerda for maior\n",
    "    # que pai, então dizemos que o filho em questão é o maior\n",
    "    if left < size and arr[left] > arr[max_value_index]:\n",
    "        max_value_index = left\n",
    "        \n",
    "    # se o irmão a direita é maior\n",
    "    # então atualizamos a informação que o maior\n",
    "    # é o que está à direita\n",
    "    if right < size and arr[right] > arr[max_value_index]:\n",
    "        max_value_index = right\n",
    "        \n",
    "    #  caso um dos filhos seja maior\n",
    "    if max_value_index != index:\n",
    "        \n",
    "        # colocamos o filho maior \n",
    "        # na posição de pai e o antigo\n",
    "        # pai é rebaixado a filho\n",
    "        temp = arr[index]\n",
    "        arr[index] = arr[max_value_index]\n",
    "        arr[max_value_index] = temp\n",
    "        \n",
    "        # arrumar a casa (repetir o mesmo trabalho que foi feito até aqui)\n",
    "        # a partir da nova posição do \"pai rebaixado\" a filho\n",
    "        # obs: trabalho recursivo\n",
    "        heapify(arr, max_value_index, size)"
   ]
  },
  {
   "cell_type": "code",
   "execution_count": 10,
   "id": "d8bd85e5",
   "metadata": {},
   "outputs": [
    {
     "data": {
      "text/plain": [
       "[90, 53, 12, 40, 50, 10]"
      ]
     },
     "execution_count": 10,
     "metadata": {},
     "output_type": "execute_result"
    }
   ],
   "source": [
    "arr = [10, 50, 12, 40, 53, 90]\n",
    "build_heap(arr=arr)\n",
    "arr"
   ]
  },
  {
   "cell_type": "code",
   "execution_count": 9,
   "id": "0fe28b89",
   "metadata": {},
   "outputs": [],
   "source": [
    "#   Árvore da célula anterior montada\n",
    "\n",
    "#         90\n",
    "#       /    \\\n",
    "#     53      12\n",
    "#    /  \\    /\n",
    "#  40   50  10 "
   ]
  },
  {
   "cell_type": "code",
   "execution_count": null,
   "id": "8dbee974",
   "metadata": {},
   "outputs": [],
   "source": []
  }
 ],
 "metadata": {
  "kernelspec": {
   "display_name": "Python 3 (ipykernel)",
   "language": "python",
   "name": "python3"
  },
  "language_info": {
   "codemirror_mode": {
    "name": "ipython",
    "version": 3
   },
   "file_extension": ".py",
   "mimetype": "text/x-python",
   "name": "python",
   "nbconvert_exporter": "python",
   "pygments_lexer": "ipython3",
   "version": "3.10.6"
  }
 },
 "nbformat": 4,
 "nbformat_minor": 5
}
