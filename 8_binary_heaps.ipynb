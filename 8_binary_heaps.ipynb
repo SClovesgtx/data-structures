{
 "cells": [
  {
   "cell_type": "markdown",
   "id": "7b1c2543",
   "metadata": {},
   "source": [
    "![](imgs/priority_queue.png)"
   ]
  },
  {
   "cell_type": "markdown",
   "id": "4576d1da",
   "metadata": {},
   "source": [
    "Uma fila, onde pode haver itens que precisam ser \"atendidos\" com prioridade, pode ser implementada de maneira eficiente com as Binary Heaps."
   ]
  },
  {
   "cell_type": "markdown",
   "id": "991205fc",
   "metadata": {},
   "source": [
    "# O que é uma Binary Heap?\n",
    "\n",
    "É uma binary tree completa. O que é uma binary tree completa?\n",
    "\n",
    "Antes disso, vamos ver uma binary tree inteira (full):\n",
    "\n",
    "![](imgs/full_binary_tree.png)\n",
    "\n",
    "Ou seja, uma binary tree inteira é aquela onde todos os nós tem exatamente dois filhos (com exceção dos nós folhas).\n",
    "\n",
    "Já a binary tree completa, pode ter filhos faltando, mas a última camada da árvore terá todas os nós folhas mais a esquerda (nunca à direita):\n",
    "\n",
    "![](imgs/complete_binary_tree.png)"
   ]
  },
  {
   "cell_type": "markdown",
   "id": "0ce08f96",
   "metadata": {},
   "source": [
    "# Há dois tipos de binary heap\n",
    "\n",
    "## 1ª - Min Binary Heap\n",
    "\n",
    "O nó raíz será sempre o valor mínimo e toda sub-árvore desta ávore também terá o valor mínimo localizado no nó raíz.\n",
    "\n",
    "## 2ª - Max Binary Heap\n",
    "\n",
    "O mesmo conceito que a Min Binary Heap só que com valores máximos."
   ]
  },
  {
   "cell_type": "code",
   "execution_count": null,
   "id": "4060bd2f",
   "metadata": {},
   "outputs": [],
   "source": []
  }
 ],
 "metadata": {
  "kernelspec": {
   "display_name": "Python 3 (ipykernel)",
   "language": "python",
   "name": "python3"
  },
  "language_info": {
   "codemirror_mode": {
    "name": "ipython",
    "version": 3
   },
   "file_extension": ".py",
   "mimetype": "text/x-python",
   "name": "python",
   "nbconvert_exporter": "python",
   "pygments_lexer": "ipython3",
   "version": "3.10.4"
  }
 },
 "nbformat": 4,
 "nbformat_minor": 5
}
